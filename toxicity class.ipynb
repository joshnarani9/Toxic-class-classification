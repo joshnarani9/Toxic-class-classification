{
 "cells": [
  {
   "cell_type": "code",
   "execution_count": 1,
   "metadata": {},
   "outputs": [],
   "source": [
    "import spacy\n",
    "import pandas as pd\n",
    "import numpy as np \n",
    "import matplotlib.pyplot as plt\n",
    "import seaborn as sns\n",
    "sns.set()\n",
    "import warnings\n",
    "warnings.filterwarnings(\"ignore\")"
   ]
  },
  {
   "cell_type": "code",
   "execution_count": 2,
   "metadata": {},
   "outputs": [],
   "source": [
    "train = pd.read_csv(\"C:/Users/Srinivas/Downloads/Desktop/train.csv\")"
   ]
  },
  {
   "cell_type": "code",
   "execution_count": 3,
   "metadata": {},
   "outputs": [
    {
     "data": {
      "text/plain": [
       "(159571, 8)"
      ]
     },
     "execution_count": 3,
     "metadata": {},
     "output_type": "execute_result"
    }
   ],
   "source": [
    "train.shape"
   ]
  },
  {
   "cell_type": "code",
   "execution_count": 4,
   "metadata": {},
   "outputs": [],
   "source": [
    "test = pd.read_csv(\"C:/Users/Srinivas/Downloads/Desktop/test.csv\", delimiter=',',encoding='ISO-8859-1')"
   ]
  },
  {
   "cell_type": "code",
   "execution_count": 5,
   "metadata": {},
   "outputs": [],
   "source": [
    "sentences_train = train[\"comment_text\"].replace(to_replace=np.nan,value=0)"
   ]
  },
  {
   "cell_type": "code",
   "execution_count": 6,
   "metadata": {},
   "outputs": [
    {
     "data": {
      "text/plain": [
       "(159571,)"
      ]
     },
     "execution_count": 6,
     "metadata": {},
     "output_type": "execute_result"
    }
   ],
   "source": [
    "sentences_train.shape"
   ]
  },
  {
   "cell_type": "code",
   "execution_count": 7,
   "metadata": {},
   "outputs": [
    {
     "data": {
      "text/plain": [
       "\"Explanation\\nWhy the edits made under my username Hardcore Metallica Fan were reverted? They weren't vandalisms, just closure on some GAs after I voted at New York Dolls FAC. And please don't remove the template from the talk page since I'm retired now.89.205.38.27\""
      ]
     },
     "execution_count": 7,
     "metadata": {},
     "output_type": "execute_result"
    }
   ],
   "source": [
    "sentences_train[0]"
   ]
  },
  {
   "cell_type": "code",
   "execution_count": 8,
   "metadata": {},
   "outputs": [],
   "source": [
    "sentences_test = test[\"comment_text\"].replace(to_replace=np.nan,value=0)"
   ]
  },
  {
   "cell_type": "code",
   "execution_count": 9,
   "metadata": {},
   "outputs": [],
   "source": [
    "\n",
    "max_features = 20000 \n",
    "maxlen = 50 "
   ]
  },
  {
   "cell_type": "code",
   "execution_count": 10,
   "metadata": {},
   "outputs": [
    {
     "name": "stderr",
     "output_type": "stream",
     "text": [
      "Using TensorFlow backend.\n"
     ]
    }
   ],
   "source": [
    "import keras\n",
    "from keras.preprocessing.text import Tokenizer\n",
    "from keras.preprocessing.sequence import pad_sequences"
   ]
  },
  {
   "cell_type": "code",
   "execution_count": 11,
   "metadata": {},
   "outputs": [],
   "source": [
    "tokenizer = Tokenizer(num_words=max_features)\n",
    "tokenizer.fit_on_texts(list(sentences_train))\n",
    "\n"
   ]
  },
  {
   "cell_type": "code",
   "execution_count": 12,
   "metadata": {},
   "outputs": [],
   "source": [
    "tokens_train = tokenizer.texts_to_sequences(sentences_train)\n",
    "tokens_test = tokenizer.texts_to_sequences(sentences_test)"
   ]
  },
  {
   "cell_type": "code",
   "execution_count": 13,
   "metadata": {},
   "outputs": [],
   "source": [
    "X_train = pad_sequences(tokens_train, maxlen=maxlen)\n",
    "X_test = pad_sequences(tokens_test, maxlen=maxlen)"
   ]
  },
  {
   "cell_type": "code",
   "execution_count": 14,
   "metadata": {},
   "outputs": [],
   "source": [
    "y_train=['toxic','severe_toxic','obscene','threat','insult','identity_hate']"
   ]
  },
  {
   "cell_type": "code",
   "execution_count": 15,
   "metadata": {},
   "outputs": [],
   "source": [
    "Y=train[y_train].values"
   ]
  },
  {
   "cell_type": "code",
   "execution_count": 16,
   "metadata": {},
   "outputs": [
    {
     "data": {
      "text/plain": [
       "(159571, 6)"
      ]
     },
     "execution_count": 16,
     "metadata": {},
     "output_type": "execute_result"
    }
   ],
   "source": [
    "Y.shape"
   ]
  },
  {
   "cell_type": "code",
   "execution_count": 17,
   "metadata": {},
   "outputs": [
    {
     "data": {
      "text/plain": [
       "50"
      ]
     },
     "execution_count": 17,
     "metadata": {},
     "output_type": "execute_result"
    }
   ],
   "source": [
    "X_train.shape[1]"
   ]
  },
  {
   "cell_type": "code",
   "execution_count": 18,
   "metadata": {},
   "outputs": [],
   "source": [
    "from tensorflow import keras as tfk"
   ]
  },
  {
   "cell_type": "code",
   "execution_count": 19,
   "metadata": {},
   "outputs": [],
   "source": [
    "import warnings\n",
    "\n",
    "from keras.models import Sequential\n",
    "from keras.utils import to_categorical\n",
    "from keras.layers import Dense,LSTM,Embedding,SpatialDropout1D\n",
    "from keras.losses import categorical_crossentropy\n",
    "from keras.activations import relu,softmax"
   ]
  },
  {
   "cell_type": "code",
   "execution_count": 20,
   "metadata": {},
   "outputs": [],
   "source": [
    "tb = tfk.callbacks.TensorBoard()"
   ]
  },
  {
   "cell_type": "code",
   "execution_count": 21,
   "metadata": {},
   "outputs": [
    {
     "name": "stdout",
     "output_type": "stream",
     "text": [
      "WARNING:tensorflow:From C:\\Users\\Srinivas\\Anaconda3\\lib\\site-packages\\tensorflow\\python\\framework\\op_def_library.py:263: colocate_with (from tensorflow.python.framework.ops) is deprecated and will be removed in a future version.\n",
      "Instructions for updating:\n",
      "Colocations handled automatically by placer.\n",
      "WARNING:tensorflow:From C:\\Users\\Srinivas\\Anaconda3\\lib\\site-packages\\keras\\backend\\tensorflow_backend.py:3445: calling dropout (from tensorflow.python.ops.nn_ops) with keep_prob is deprecated and will be removed in a future version.\n",
      "Instructions for updating:\n",
      "Please use `rate` instead of `keep_prob`. Rate should be set to `rate = 1 - keep_prob`.\n"
     ]
    }
   ],
   "source": [
    "model = Sequential()\n",
    "model.add(Embedding(max_features, 128, input_length=X_train.shape[1]))\n",
    "model.add(SpatialDropout1D(0.25))\n",
    "model.add(LSTM(196,dropout=0.2))\n",
    "model.add(Dense(6, activation=\"softmax\"))"
   ]
  },
  {
   "cell_type": "code",
   "execution_count": 22,
   "metadata": {},
   "outputs": [],
   "source": [
    "model.compile(optimizer=\"rmsprop\", loss=categorical_crossentropy, metrics=[\"acc\"])"
   ]
  },
  {
   "cell_type": "code",
   "execution_count": 23,
   "metadata": {},
   "outputs": [
    {
     "name": "stdout",
     "output_type": "stream",
     "text": [
      "WARNING:tensorflow:From C:\\Users\\Srinivas\\Anaconda3\\lib\\site-packages\\tensorflow\\python\\ops\\math_ops.py:3066: to_int32 (from tensorflow.python.ops.math_ops) is deprecated and will be removed in a future version.\n",
      "Instructions for updating:\n",
      "Use tf.cast instead.\n",
      "Train on 127656 samples, validate on 31915 samples\n",
      "Epoch 1/1\n"
     ]
    },
    {
     "name": "stdout",
     "output_type": "stream",
     "text": [
      " 20400/127656 [===>..........................] - ETA: 2:24:51 - loss: 0.4301 - acc: 0.15 - ETA: 1:22:03 - loss: 0.4089 - acc: 0.57 - ETA: 59:33 - loss: 0.4547 - acc: 0.7100 - ETA: 47:30 - loss: 0.3898 - acc: 0.77 - ETA: 40:18 - loss: 0.3867 - acc: 0.62 - ETA: 35:07 - loss: 0.3923 - acc: 0.68 - ETA: 31:22 - loss: 0.3588 - acc: 0.58 - ETA: 28:27 - loss: 0.3572 - acc: 0.63 - ETA: 26:11 - loss: 0.3367 - acc: 0.67 - ETA: 24:23 - loss: 0.3348 - acc: 0.70 - ETA: 22:48 - loss: 0.3397 - acc: 0.73 - ETA: 21:31 - loss: 0.3416 - acc: 0.75 - ETA: 20:24 - loss: 0.3385 - acc: 0.77 - ETA: 19:26 - loss: 0.3367 - acc: 0.79 - ETA: 18:36 - loss: 0.3538 - acc: 0.80 - ETA: 17:53 - loss: 0.3489 - acc: 0.81 - ETA: 17:13 - loss: 0.3523 - acc: 0.82 - ETA: 16:38 - loss: 0.3406 - acc: 0.83 - ETA: 16:07 - loss: 0.3398 - acc: 0.84 - ETA: 15:40 - loss: 0.3368 - acc: 0.85 - ETA: 15:14 - loss: 0.3435 - acc: 0.85 - ETA: 14:51 - loss: 0.3448 - acc: 0.86 - ETA: 14:30 - loss: 0.3471 - acc: 0.87 - ETA: 14:09 - loss: 0.3406 - acc: 0.87 - ETA: 13:51 - loss: 0.3360 - acc: 0.88 - ETA: 13:35 - loss: 0.3309 - acc: 0.88 - ETA: 13:19 - loss: 0.3386 - acc: 0.88 - ETA: 13:05 - loss: 0.3405 - acc: 0.89 - ETA: 12:51 - loss: 0.3366 - acc: 0.89 - ETA: 12:39 - loss: 0.3364 - acc: 0.89 - ETA: 12:27 - loss: 0.3344 - acc: 0.90 - ETA: 12:15 - loss: 0.3389 - acc: 0.90 - ETA: 12:05 - loss: 0.3379 - acc: 0.90 - ETA: 11:55 - loss: 0.3386 - acc: 0.90 - ETA: 11:46 - loss: 0.3363 - acc: 0.91 - ETA: 11:38 - loss: 0.3332 - acc: 0.91 - ETA: 11:29 - loss: 0.3303 - acc: 0.91 - ETA: 11:21 - loss: 0.3316 - acc: 0.91 - ETA: 11:14 - loss: 0.3312 - acc: 0.91 - ETA: 11:07 - loss: 0.3337 - acc: 0.92 - ETA: 11:00 - loss: 0.3305 - acc: 0.92 - ETA: 10:54 - loss: 0.3295 - acc: 0.92 - ETA: 10:48 - loss: 0.3272 - acc: 0.92 - ETA: 10:43 - loss: 0.3248 - acc: 0.92 - ETA: 10:37 - loss: 0.3237 - acc: 0.92 - ETA: 10:31 - loss: 0.3201 - acc: 0.93 - ETA: 10:26 - loss: 0.3168 - acc: 0.93 - ETA: 10:21 - loss: 0.3160 - acc: 0.93 - ETA: 10:16 - loss: 0.3160 - acc: 0.91 - ETA: 10:11 - loss: 0.3161 - acc: 0.91 - ETA: 10:07 - loss: 0.3174 - acc: 0.91 - ETA: 10:03 - loss: 0.3136 - acc: 0.91 - ETA: 9:58 - loss: 0.3107 - acc: 0.9213 - ETA: 9:54 - loss: 0.3124 - acc: 0.922 - ETA: 9:51 - loss: 0.3084 - acc: 0.924 - ETA: 9:47 - loss: 0.3068 - acc: 0.925 - ETA: 9:43 - loss: 0.3060 - acc: 0.926 - ETA: 9:39 - loss: 0.3023 - acc: 0.927 - ETA: 9:35 - loss: 0.3017 - acc: 0.929 - ETA: 9:32 - loss: 0.3018 - acc: 0.930 - ETA: 9:29 - loss: 0.3024 - acc: 0.931 - ETA: 9:26 - loss: 0.2991 - acc: 0.932 - ETA: 9:23 - loss: 0.2997 - acc: 0.933 - ETA: 9:20 - loss: 0.2973 - acc: 0.934 - ETA: 9:17 - loss: 0.2942 - acc: 0.935 - ETA: 9:14 - loss: 0.2921 - acc: 0.936 - ETA: 9:11 - loss: 0.2910 - acc: 0.937 - ETA: 9:09 - loss: 0.2927 - acc: 0.938 - ETA: 9:06 - loss: 0.2942 - acc: 0.938 - ETA: 9:04 - loss: 0.2954 - acc: 0.925 - ETA: 9:01 - loss: 0.2972 - acc: 0.926 - ETA: 8:58 - loss: 0.2964 - acc: 0.927 - ETA: 8:56 - loss: 0.2944 - acc: 0.928 - ETA: 8:54 - loss: 0.2936 - acc: 0.929 - ETA: 8:52 - loss: 0.2948 - acc: 0.929 - ETA: 8:50 - loss: 0.2949 - acc: 0.930 - ETA: 8:47 - loss: 0.2960 - acc: 0.931 - ETA: 8:45 - loss: 0.2947 - acc: 0.932 - ETA: 8:43 - loss: 0.2931 - acc: 0.933 - ETA: 8:41 - loss: 0.2920 - acc: 0.934 - ETA: 8:40 - loss: 0.2907 - acc: 0.934 - ETA: 8:38 - loss: 0.2922 - acc: 0.935 - ETA: 8:36 - loss: 0.2925 - acc: 0.935 - ETA: 8:35 - loss: 0.2923 - acc: 0.936 - ETA: 8:33 - loss: 0.2931 - acc: 0.937 - ETA: 8:31 - loss: 0.2944 - acc: 0.938 - ETA: 8:29 - loss: 0.2945 - acc: 0.938 - ETA: 8:27 - loss: 0.2959 - acc: 0.939 - ETA: 8:26 - loss: 0.2953 - acc: 0.939 - ETA: 8:24 - loss: 0.2951 - acc: 0.940 - ETA: 8:23 - loss: 0.2940 - acc: 0.941 - ETA: 8:21 - loss: 0.2947 - acc: 0.941 - ETA: 8:19 - loss: 0.2927 - acc: 0.942 - ETA: 8:18 - loss: 0.2923 - acc: 0.942 - ETA: 8:16 - loss: 0.2915 - acc: 0.943 - ETA: 8:14 - loss: 0.2904 - acc: 0.944 - ETA: 8:13 - loss: 0.2936 - acc: 0.944 - ETA: 8:11 - loss: 0.2919 - acc: 0.945 - ETA: 8:10 - loss: 0.2915 - acc: 0.945 - ETA: 8:09 - loss: 0.2926 - acc: 0.945 - ETA: 8:08 - loss: 0.2932 - acc: 0.946 - ETA: 8:06 - loss: 0.2926 - acc: 0.946 - ETA: 8:06 - loss: 0.2934 - acc: 0.947 - ETA: 8:04 - loss: 0.2921 - acc: 0.947 - ETA: 8:03 - loss: 0.2926 - acc: 0.948 - ETA: 8:01 - loss: 0.2928 - acc: 0.948 - ETA: 8:00 - loss: 0.2935 - acc: 0.949 - ETA: 7:59 - loss: 0.2942 - acc: 0.949 - ETA: 7:57 - loss: 0.2938 - acc: 0.949 - ETA: 7:56 - loss: 0.2944 - acc: 0.950 - ETA: 7:55 - loss: 0.2964 - acc: 0.950 - ETA: 7:54 - loss: 0.2974 - acc: 0.950 - ETA: 7:52 - loss: 0.2978 - acc: 0.951 - ETA: 7:51 - loss: 0.2974 - acc: 0.951 - ETA: 7:50 - loss: 0.2962 - acc: 0.952 - ETA: 7:49 - loss: 0.2967 - acc: 0.952 - ETA: 7:48 - loss: 0.2976 - acc: 0.952 - ETA: 7:46 - loss: 0.2979 - acc: 0.953 - ETA: 7:45 - loss: 0.2985 - acc: 0.953 - ETA: 7:44 - loss: 0.2987 - acc: 0.953 - ETA: 7:43 - loss: 0.2994 - acc: 0.954 - ETA: 7:42 - loss: 0.2984 - acc: 0.954 - ETA: 7:42 - loss: 0.3003 - acc: 0.955 - ETA: 7:41 - loss: 0.2999 - acc: 0.955 - ETA: 7:40 - loss: 0.2984 - acc: 0.955 - ETA: 7:39 - loss: 0.2988 - acc: 0.955 - ETA: 7:38 - loss: 0.2997 - acc: 0.956 - ETA: 7:37 - loss: 0.2984 - acc: 0.956 - ETA: 7:36 - loss: 0.2988 - acc: 0.956 - ETA: 7:35 - loss: 0.2994 - acc: 0.956 - ETA: 7:34 - loss: 0.3003 - acc: 0.957 - ETA: 7:33 - loss: 0.3000 - acc: 0.957 - ETA: 7:32 - loss: 0.3016 - acc: 0.957 - ETA: 7:32 - loss: 0.3025 - acc: 0.957 - ETA: 7:31 - loss: 0.3014 - acc: 0.957 - ETA: 7:30 - loss: 0.2999 - acc: 0.958 - ETA: 7:29 - loss: 0.3012 - acc: 0.958 - ETA: 7:28 - loss: 0.3014 - acc: 0.958 - ETA: 7:28 - loss: 0.3014 - acc: 0.959 - ETA: 7:27 - loss: 0.3017 - acc: 0.959 - ETA: 7:26 - loss: 0.3021 - acc: 0.959 - ETA: 7:26 - loss: 0.3020 - acc: 0.959 - ETA: 7:25 - loss: 0.3029 - acc: 0.960 - ETA: 7:24 - loss: 0.3025 - acc: 0.960 - ETA: 7:23 - loss: 0.3038 - acc: 0.960 - ETA: 7:23 - loss: 0.3038 - acc: 0.960 - ETA: 7:22 - loss: 0.3034 - acc: 0.961 - ETA: 7:21 - loss: 0.3037 - acc: 0.961 - ETA: 7:20 - loss: 0.3038 - acc: 0.961 - ETA: 7:19 - loss: 0.3025 - acc: 0.961 - ETA: 7:19 - loss: 0.3016 - acc: 0.961 - ETA: 7:18 - loss: 0.3017 - acc: 0.962 - ETA: 7:18 - loss: 0.3022 - acc: 0.962 - ETA: 7:18 - loss: 0.3017 - acc: 0.962 - ETA: 7:17 - loss: 0.3022 - acc: 0.962 - ETA: 7:16 - loss: 0.3024 - acc: 0.962 - ETA: 7:16 - loss: 0.3019 - acc: 0.963 - ETA: 7:15 - loss: 0.3028 - acc: 0.963 - ETA: 7:14 - loss: 0.3029 - acc: 0.963 - ETA: 7:13 - loss: 0.3034 - acc: 0.963 - ETA: 7:12 - loss: 0.3036 - acc: 0.963 - ETA: 7:12 - loss: 0.3026 - acc: 0.964 - ETA: 7:11 - loss: 0.3025 - acc: 0.964 - ETA: 7:10 - loss: 0.3020 - acc: 0.964 - ETA: 7:09 - loss: 0.3034 - acc: 0.964 - ETA: 7:08 - loss: 0.3029 - acc: 0.964 - ETA: 7:08 - loss: 0.3033 - acc: 0.965 - ETA: 7:07 - loss: 0.3033 - acc: 0.965 - ETA: 7:07 - loss: 0.3031 - acc: 0.965 - ETA: 7:06 - loss: 0.3028 - acc: 0.965 - ETA: 7:05 - loss: 0.3023 - acc: 0.965 - ETA: 7:04 - loss: 0.3027 - acc: 0.966 - ETA: 7:04 - loss: 0.3017 - acc: 0.966 - ETA: 7:03 - loss: 0.3017 - acc: 0.966 - ETA: 7:02 - loss: 0.3023 - acc: 0.966 - ETA: 7:02 - loss: 0.3018 - acc: 0.966 - ETA: 7:01 - loss: 0.3019 - acc: 0.966 - ETA: 7:00 - loss: 0.3028 - acc: 0.966 - ETA: 6:59 - loss: 0.3032 - acc: 0.967 - ETA: 6:59 - loss: 0.3026 - acc: 0.967 - ETA: 6:58 - loss: 0.3023 - acc: 0.967 - ETA: 6:57 - loss: 0.3031 - acc: 0.967 - ETA: 6:56 - loss: 0.3031 - acc: 0.967 - ETA: 6:56 - loss: 0.3031 - acc: 0.967 - ETA: 6:55 - loss: 0.3039 - acc: 0.967 - ETA: 6:54 - loss: 0.3040 - acc: 0.968 - ETA: 6:54 - loss: 0.3041 - acc: 0.968 - ETA: 6:53 - loss: 0.3036 - acc: 0.968 - ETA: 6:52 - loss: 0.3030 - acc: 0.968 - ETA: 6:52 - loss: 0.3020 - acc: 0.968 - ETA: 6:51 - loss: 0.3010 - acc: 0.968 - ETA: 6:50 - loss: 0.3008 - acc: 0.968 - ETA: 6:50 - loss: 0.3008 - acc: 0.969 - ETA: 6:49 - loss: 0.3003 - acc: 0.969 - ETA: 6:48 - loss: 0.3003 - acc: 0.969 - ETA: 6:48 - loss: 0.3004 - acc: 0.969 - ETA: 6:47 - loss: 0.2998 - acc: 0.969 - ETA: 6:47 - loss: 0.2997 - acc: 0.969 - ETA: 6:46 - loss: 0.2990 - acc: 0.969 - ETA: 6:46 - loss: 0.2991 - acc: 0.969 - ETA: 6:45 - loss: 0.2989 - acc: 0.969 - ETA: 6:45 - loss: 0.2984 - acc: 0.970 - ETA: 6:44 - loss: 0.2976 - acc: 0.970 - ETA: 6:44 - loss: 0.2986 - acc: 0.9701"
     ]
    },
    {
     "name": "stdout",
     "output_type": "stream",
     "text": [
      " 40800/127656 [========>.....................] - ETA: 6:43 - loss: 0.3000 - acc: 0.970 - ETA: 6:43 - loss: 0.3009 - acc: 0.970 - ETA: 6:42 - loss: 0.3029 - acc: 0.970 - ETA: 6:41 - loss: 0.3031 - acc: 0.970 - ETA: 6:41 - loss: 0.3032 - acc: 0.970 - ETA: 6:40 - loss: 0.3028 - acc: 0.970 - ETA: 6:40 - loss: 0.3022 - acc: 0.970 - ETA: 6:39 - loss: 0.3014 - acc: 0.970 - ETA: 6:38 - loss: 0.3022 - acc: 0.970 - ETA: 6:38 - loss: 0.3021 - acc: 0.970 - ETA: 6:37 - loss: 0.3020 - acc: 0.970 - ETA: 6:36 - loss: 0.3024 - acc: 0.971 - ETA: 6:36 - loss: 0.3033 - acc: 0.971 - ETA: 6:35 - loss: 0.3031 - acc: 0.971 - ETA: 6:35 - loss: 0.3032 - acc: 0.971 - ETA: 6:34 - loss: 0.3033 - acc: 0.971 - ETA: 6:33 - loss: 0.3036 - acc: 0.971 - ETA: 6:33 - loss: 0.3033 - acc: 0.971 - ETA: 6:32 - loss: 0.3025 - acc: 0.971 - ETA: 6:32 - loss: 0.3019 - acc: 0.971 - ETA: 6:31 - loss: 0.3014 - acc: 0.971 - ETA: 6:31 - loss: 0.3008 - acc: 0.972 - ETA: 6:30 - loss: 0.3005 - acc: 0.972 - ETA: 6:29 - loss: 0.3014 - acc: 0.972 - ETA: 6:29 - loss: 0.3006 - acc: 0.972 - ETA: 6:28 - loss: 0.3006 - acc: 0.972 - ETA: 6:28 - loss: 0.3009 - acc: 0.972 - ETA: 6:27 - loss: 0.3008 - acc: 0.972 - ETA: 6:27 - loss: 0.3005 - acc: 0.972 - ETA: 6:26 - loss: 0.2999 - acc: 0.972 - ETA: 6:26 - loss: 0.2996 - acc: 0.972 - ETA: 6:25 - loss: 0.2994 - acc: 0.972 - ETA: 6:25 - loss: 0.2988 - acc: 0.972 - ETA: 6:25 - loss: 0.2989 - acc: 0.972 - ETA: 6:24 - loss: 0.2995 - acc: 0.972 - ETA: 6:23 - loss: 0.2994 - acc: 0.973 - ETA: 6:23 - loss: 0.2997 - acc: 0.973 - ETA: 6:22 - loss: 0.2995 - acc: 0.973 - ETA: 6:22 - loss: 0.2990 - acc: 0.973 - ETA: 6:22 - loss: 0.2983 - acc: 0.973 - ETA: 6:21 - loss: 0.2985 - acc: 0.973 - ETA: 6:21 - loss: 0.2978 - acc: 0.973 - ETA: 6:20 - loss: 0.2974 - acc: 0.973 - ETA: 6:20 - loss: 0.2975 - acc: 0.973 - ETA: 6:19 - loss: 0.2978 - acc: 0.973 - ETA: 6:19 - loss: 0.2973 - acc: 0.973 - ETA: 6:18 - loss: 0.2974 - acc: 0.973 - ETA: 6:18 - loss: 0.2972 - acc: 0.973 - ETA: 6:17 - loss: 0.2977 - acc: 0.973 - ETA: 6:17 - loss: 0.2980 - acc: 0.973 - ETA: 6:17 - loss: 0.2987 - acc: 0.973 - ETA: 6:16 - loss: 0.2984 - acc: 0.973 - ETA: 6:16 - loss: 0.2984 - acc: 0.973 - ETA: 6:15 - loss: 0.2987 - acc: 0.973 - ETA: 6:15 - loss: 0.2986 - acc: 0.973 - ETA: 6:14 - loss: 0.2986 - acc: 0.973 - ETA: 6:14 - loss: 0.2975 - acc: 0.973 - ETA: 6:13 - loss: 0.2972 - acc: 0.973 - ETA: 6:13 - loss: 0.2970 - acc: 0.973 - ETA: 6:12 - loss: 0.2967 - acc: 0.973 - ETA: 6:12 - loss: 0.2960 - acc: 0.973 - ETA: 6:12 - loss: 0.2958 - acc: 0.973 - ETA: 6:11 - loss: 0.2962 - acc: 0.973 - ETA: 6:11 - loss: 0.2965 - acc: 0.974 - ETA: 6:10 - loss: 0.2967 - acc: 0.974 - ETA: 6:10 - loss: 0.2965 - acc: 0.974 - ETA: 6:10 - loss: 0.2961 - acc: 0.974 - ETA: 6:09 - loss: 0.2966 - acc: 0.974 - ETA: 6:09 - loss: 0.2970 - acc: 0.974 - ETA: 6:08 - loss: 0.2974 - acc: 0.974 - ETA: 6:08 - loss: 0.2972 - acc: 0.974 - ETA: 6:08 - loss: 0.2977 - acc: 0.974 - ETA: 6:07 - loss: 0.2976 - acc: 0.974 - ETA: 6:07 - loss: 0.2981 - acc: 0.974 - ETA: 6:06 - loss: 0.2986 - acc: 0.974 - ETA: 6:06 - loss: 0.2993 - acc: 0.974 - ETA: 6:06 - loss: 0.2995 - acc: 0.974 - ETA: 6:05 - loss: 0.2991 - acc: 0.974 - ETA: 6:05 - loss: 0.2989 - acc: 0.974 - ETA: 6:04 - loss: 0.2993 - acc: 0.974 - ETA: 6:04 - loss: 0.2996 - acc: 0.974 - ETA: 6:03 - loss: 0.2994 - acc: 0.974 - ETA: 6:03 - loss: 0.2997 - acc: 0.974 - ETA: 6:02 - loss: 0.2993 - acc: 0.974 - ETA: 6:02 - loss: 0.2997 - acc: 0.974 - ETA: 6:02 - loss: 0.2997 - acc: 0.975 - ETA: 6:01 - loss: 0.2997 - acc: 0.975 - ETA: 6:01 - loss: 0.3009 - acc: 0.975 - ETA: 6:00 - loss: 0.3015 - acc: 0.975 - ETA: 6:00 - loss: 0.3016 - acc: 0.975 - ETA: 6:00 - loss: 0.3016 - acc: 0.975 - ETA: 5:59 - loss: 0.3016 - acc: 0.975 - ETA: 5:59 - loss: 0.3016 - acc: 0.975 - ETA: 5:59 - loss: 0.3011 - acc: 0.975 - ETA: 5:59 - loss: 0.3008 - acc: 0.975 - ETA: 5:59 - loss: 0.3004 - acc: 0.975 - ETA: 5:58 - loss: 0.3007 - acc: 0.975 - ETA: 5:58 - loss: 0.3015 - acc: 0.975 - ETA: 5:57 - loss: 0.3012 - acc: 0.975 - ETA: 5:57 - loss: 0.3009 - acc: 0.975 - ETA: 5:57 - loss: 0.3010 - acc: 0.975 - ETA: 5:56 - loss: 0.3010 - acc: 0.975 - ETA: 5:56 - loss: 0.3011 - acc: 0.975 - ETA: 5:55 - loss: 0.3018 - acc: 0.975 - ETA: 5:55 - loss: 0.3016 - acc: 0.976 - ETA: 5:55 - loss: 0.3013 - acc: 0.976 - ETA: 5:54 - loss: 0.3015 - acc: 0.976 - ETA: 5:54 - loss: 0.3015 - acc: 0.976 - ETA: 5:53 - loss: 0.3013 - acc: 0.976 - ETA: 5:53 - loss: 0.3013 - acc: 0.976 - ETA: 5:53 - loss: 0.3011 - acc: 0.976 - ETA: 5:52 - loss: 0.3006 - acc: 0.976 - ETA: 5:52 - loss: 0.3003 - acc: 0.976 - ETA: 5:51 - loss: 0.3002 - acc: 0.976 - ETA: 5:51 - loss: 0.2994 - acc: 0.976 - ETA: 5:50 - loss: 0.2994 - acc: 0.976 - ETA: 5:50 - loss: 0.2994 - acc: 0.976 - ETA: 5:49 - loss: 0.2989 - acc: 0.976 - ETA: 5:49 - loss: 0.2992 - acc: 0.976 - ETA: 5:49 - loss: 0.2990 - acc: 0.976 - ETA: 5:48 - loss: 0.2999 - acc: 0.976 - ETA: 5:48 - loss: 0.3002 - acc: 0.976 - ETA: 5:47 - loss: 0.2998 - acc: 0.976 - ETA: 5:47 - loss: 0.2998 - acc: 0.977 - ETA: 5:46 - loss: 0.2997 - acc: 0.977 - ETA: 5:46 - loss: 0.2993 - acc: 0.977 - ETA: 5:46 - loss: 0.2992 - acc: 0.977 - ETA: 5:45 - loss: 0.2989 - acc: 0.977 - ETA: 5:45 - loss: 0.2982 - acc: 0.977 - ETA: 5:44 - loss: 0.2986 - acc: 0.977 - ETA: 5:44 - loss: 0.2994 - acc: 0.977 - ETA: 5:43 - loss: 0.2994 - acc: 0.977 - ETA: 5:43 - loss: 0.2994 - acc: 0.977 - ETA: 5:43 - loss: 0.2995 - acc: 0.977 - ETA: 5:42 - loss: 0.2993 - acc: 0.977 - ETA: 5:42 - loss: 0.2992 - acc: 0.977 - ETA: 5:41 - loss: 0.2993 - acc: 0.977 - ETA: 5:41 - loss: 0.2990 - acc: 0.977 - ETA: 5:40 - loss: 0.2995 - acc: 0.977 - ETA: 5:40 - loss: 0.2996 - acc: 0.977 - ETA: 5:40 - loss: 0.2996 - acc: 0.977 - ETA: 5:39 - loss: 0.2994 - acc: 0.977 - ETA: 5:39 - loss: 0.2995 - acc: 0.978 - ETA: 5:38 - loss: 0.2992 - acc: 0.978 - ETA: 5:38 - loss: 0.2992 - acc: 0.978 - ETA: 5:37 - loss: 0.2992 - acc: 0.978 - ETA: 5:37 - loss: 0.2990 - acc: 0.978 - ETA: 5:36 - loss: 0.2991 - acc: 0.978 - ETA: 5:36 - loss: 0.2997 - acc: 0.978 - ETA: 5:36 - loss: 0.2995 - acc: 0.978 - ETA: 5:35 - loss: 0.2994 - acc: 0.978 - ETA: 5:35 - loss: 0.2996 - acc: 0.978 - ETA: 5:34 - loss: 0.2994 - acc: 0.978 - ETA: 5:34 - loss: 0.2998 - acc: 0.978 - ETA: 5:33 - loss: 0.2997 - acc: 0.978 - ETA: 5:33 - loss: 0.2997 - acc: 0.978 - ETA: 5:32 - loss: 0.2996 - acc: 0.978 - ETA: 5:32 - loss: 0.2997 - acc: 0.978 - ETA: 5:32 - loss: 0.2996 - acc: 0.978 - ETA: 5:31 - loss: 0.2998 - acc: 0.978 - ETA: 5:31 - loss: 0.2991 - acc: 0.978 - ETA: 5:30 - loss: 0.2990 - acc: 0.978 - ETA: 5:30 - loss: 0.2994 - acc: 0.978 - ETA: 5:30 - loss: 0.2990 - acc: 0.978 - ETA: 5:29 - loss: 0.2991 - acc: 0.978 - ETA: 5:29 - loss: 0.2994 - acc: 0.978 - ETA: 5:28 - loss: 0.2995 - acc: 0.978 - ETA: 5:28 - loss: 0.2992 - acc: 0.978 - ETA: 5:27 - loss: 0.2992 - acc: 0.978 - ETA: 5:27 - loss: 0.2992 - acc: 0.978 - ETA: 5:27 - loss: 0.2990 - acc: 0.978 - ETA: 5:26 - loss: 0.2990 - acc: 0.978 - ETA: 5:26 - loss: 0.2991 - acc: 0.978 - ETA: 5:25 - loss: 0.2994 - acc: 0.978 - ETA: 5:25 - loss: 0.2992 - acc: 0.978 - ETA: 5:24 - loss: 0.2994 - acc: 0.978 - ETA: 5:24 - loss: 0.2993 - acc: 0.979 - ETA: 5:24 - loss: 0.2991 - acc: 0.979 - ETA: 5:23 - loss: 0.2992 - acc: 0.979 - ETA: 5:23 - loss: 0.2998 - acc: 0.979 - ETA: 5:22 - loss: 0.2998 - acc: 0.979 - ETA: 5:22 - loss: 0.2995 - acc: 0.979 - ETA: 5:21 - loss: 0.2993 - acc: 0.979 - ETA: 5:21 - loss: 0.2998 - acc: 0.979 - ETA: 5:21 - loss: 0.2999 - acc: 0.979 - ETA: 5:20 - loss: 0.2996 - acc: 0.979 - ETA: 5:20 - loss: 0.2991 - acc: 0.979 - ETA: 5:19 - loss: 0.2990 - acc: 0.979 - ETA: 5:19 - loss: 0.2988 - acc: 0.979 - ETA: 5:19 - loss: 0.2982 - acc: 0.979 - ETA: 5:18 - loss: 0.2983 - acc: 0.979 - ETA: 5:18 - loss: 0.2977 - acc: 0.979 - ETA: 5:17 - loss: 0.2976 - acc: 0.979 - ETA: 5:17 - loss: 0.2979 - acc: 0.979 - ETA: 5:16 - loss: 0.2977 - acc: 0.979 - ETA: 5:16 - loss: 0.2977 - acc: 0.979 - ETA: 5:16 - loss: 0.2979 - acc: 0.979 - ETA: 5:15 - loss: 0.2977 - acc: 0.979 - ETA: 5:15 - loss: 0.2978 - acc: 0.979 - ETA: 5:14 - loss: 0.2975 - acc: 0.979 - ETA: 5:14 - loss: 0.2984 - acc: 0.979 - ETA: 5:14 - loss: 0.2994 - acc: 0.979 - ETA: 5:13 - loss: 0.2995 - acc: 0.979 - ETA: 5:13 - loss: 0.2994 - acc: 0.9797"
     ]
    },
    {
     "name": "stdout",
     "output_type": "stream",
     "text": [
      " 61200/127656 [=============>................] - ETA: 5:13 - loss: 0.2994 - acc: 0.979 - ETA: 5:12 - loss: 0.2997 - acc: 0.979 - ETA: 5:12 - loss: 0.2997 - acc: 0.979 - ETA: 5:11 - loss: 0.2995 - acc: 0.979 - ETA: 5:11 - loss: 0.2990 - acc: 0.979 - ETA: 5:11 - loss: 0.2990 - acc: 0.979 - ETA: 5:10 - loss: 0.2988 - acc: 0.980 - ETA: 5:10 - loss: 0.2985 - acc: 0.980 - ETA: 5:09 - loss: 0.2987 - acc: 0.980 - ETA: 5:09 - loss: 0.2990 - acc: 0.980 - ETA: 5:09 - loss: 0.2987 - acc: 0.980 - ETA: 5:08 - loss: 0.2983 - acc: 0.980 - ETA: 5:08 - loss: 0.2983 - acc: 0.980 - ETA: 5:08 - loss: 0.2983 - acc: 0.980 - ETA: 5:07 - loss: 0.2979 - acc: 0.980 - ETA: 5:07 - loss: 0.2979 - acc: 0.980 - ETA: 5:07 - loss: 0.2977 - acc: 0.980 - ETA: 5:06 - loss: 0.2972 - acc: 0.980 - ETA: 5:06 - loss: 0.2971 - acc: 0.980 - ETA: 5:05 - loss: 0.2973 - acc: 0.980 - ETA: 5:05 - loss: 0.2979 - acc: 0.980 - ETA: 5:05 - loss: 0.2983 - acc: 0.980 - ETA: 5:04 - loss: 0.2981 - acc: 0.980 - ETA: 5:04 - loss: 0.2979 - acc: 0.980 - ETA: 5:03 - loss: 0.2978 - acc: 0.980 - ETA: 5:03 - loss: 0.2980 - acc: 0.980 - ETA: 5:03 - loss: 0.2979 - acc: 0.980 - ETA: 5:02 - loss: 0.2981 - acc: 0.980 - ETA: 5:02 - loss: 0.2983 - acc: 0.980 - ETA: 5:02 - loss: 0.2981 - acc: 0.980 - ETA: 5:01 - loss: 0.2977 - acc: 0.980 - ETA: 5:01 - loss: 0.2982 - acc: 0.980 - ETA: 5:01 - loss: 0.2984 - acc: 0.980 - ETA: 5:00 - loss: 0.2988 - acc: 0.980 - ETA: 5:00 - loss: 0.2983 - acc: 0.980 - ETA: 4:59 - loss: 0.2983 - acc: 0.980 - ETA: 4:59 - loss: 0.2980 - acc: 0.980 - ETA: 4:59 - loss: 0.2984 - acc: 0.980 - ETA: 4:58 - loss: 0.2992 - acc: 0.980 - ETA: 4:58 - loss: 0.2989 - acc: 0.980 - ETA: 4:57 - loss: 0.2987 - acc: 0.980 - ETA: 4:57 - loss: 0.2989 - acc: 0.980 - ETA: 4:56 - loss: 0.2985 - acc: 0.980 - ETA: 4:56 - loss: 0.2985 - acc: 0.980 - ETA: 4:56 - loss: 0.2987 - acc: 0.980 - ETA: 4:55 - loss: 0.2989 - acc: 0.981 - ETA: 4:55 - loss: 0.2990 - acc: 0.981 - ETA: 4:54 - loss: 0.2989 - acc: 0.981 - ETA: 4:54 - loss: 0.2991 - acc: 0.981 - ETA: 4:54 - loss: 0.2993 - acc: 0.981 - ETA: 4:53 - loss: 0.2994 - acc: 0.981 - ETA: 4:53 - loss: 0.2990 - acc: 0.981 - ETA: 4:53 - loss: 0.2991 - acc: 0.981 - ETA: 4:52 - loss: 0.2993 - acc: 0.981 - ETA: 4:52 - loss: 0.2994 - acc: 0.981 - ETA: 4:52 - loss: 0.2996 - acc: 0.981 - ETA: 4:51 - loss: 0.2997 - acc: 0.981 - ETA: 4:51 - loss: 0.2998 - acc: 0.981 - ETA: 4:51 - loss: 0.3001 - acc: 0.981 - ETA: 4:50 - loss: 0.3006 - acc: 0.981 - ETA: 4:50 - loss: 0.3006 - acc: 0.981 - ETA: 4:49 - loss: 0.3007 - acc: 0.981 - ETA: 4:49 - loss: 0.3006 - acc: 0.981 - ETA: 4:49 - loss: 0.3006 - acc: 0.981 - ETA: 4:48 - loss: 0.3006 - acc: 0.981 - ETA: 4:48 - loss: 0.3009 - acc: 0.981 - ETA: 4:47 - loss: 0.3011 - acc: 0.981 - ETA: 4:47 - loss: 0.3014 - acc: 0.981 - ETA: 4:47 - loss: 0.3017 - acc: 0.981 - ETA: 4:46 - loss: 0.3018 - acc: 0.981 - ETA: 4:46 - loss: 0.3020 - acc: 0.981 - ETA: 4:45 - loss: 0.3018 - acc: 0.981 - ETA: 4:45 - loss: 0.3021 - acc: 0.981 - ETA: 4:45 - loss: 0.3020 - acc: 0.981 - ETA: 4:44 - loss: 0.3023 - acc: 0.981 - ETA: 4:44 - loss: 0.3020 - acc: 0.981 - ETA: 4:44 - loss: 0.3018 - acc: 0.981 - ETA: 4:43 - loss: 0.3017 - acc: 0.981 - ETA: 4:43 - loss: 0.3015 - acc: 0.981 - ETA: 4:42 - loss: 0.3014 - acc: 0.981 - ETA: 4:42 - loss: 0.3013 - acc: 0.981 - ETA: 4:42 - loss: 0.3015 - acc: 0.981 - ETA: 4:41 - loss: 0.3011 - acc: 0.981 - ETA: 4:41 - loss: 0.3010 - acc: 0.981 - ETA: 4:41 - loss: 0.3012 - acc: 0.981 - ETA: 4:40 - loss: 0.3009 - acc: 0.981 - ETA: 4:40 - loss: 0.3006 - acc: 0.981 - ETA: 4:40 - loss: 0.3010 - acc: 0.981 - ETA: 4:39 - loss: 0.3010 - acc: 0.981 - ETA: 4:39 - loss: 0.3009 - acc: 0.981 - ETA: 4:38 - loss: 0.3008 - acc: 0.981 - ETA: 4:38 - loss: 0.3008 - acc: 0.981 - ETA: 4:38 - loss: 0.3010 - acc: 0.981 - ETA: 4:37 - loss: 0.3013 - acc: 0.981 - ETA: 4:37 - loss: 0.3012 - acc: 0.981 - ETA: 4:36 - loss: 0.3017 - acc: 0.981 - ETA: 4:36 - loss: 0.3016 - acc: 0.981 - ETA: 4:36 - loss: 0.3013 - acc: 0.981 - ETA: 4:35 - loss: 0.3017 - acc: 0.981 - ETA: 4:35 - loss: 0.3022 - acc: 0.981 - ETA: 4:34 - loss: 0.3020 - acc: 0.981 - ETA: 4:34 - loss: 0.3020 - acc: 0.981 - ETA: 4:34 - loss: 0.3018 - acc: 0.981 - ETA: 4:34 - loss: 0.3016 - acc: 0.981 - ETA: 4:33 - loss: 0.3018 - acc: 0.981 - ETA: 4:33 - loss: 0.3018 - acc: 0.981 - ETA: 4:32 - loss: 0.3016 - acc: 0.981 - ETA: 4:32 - loss: 0.3014 - acc: 0.981 - ETA: 4:32 - loss: 0.3013 - acc: 0.981 - ETA: 4:31 - loss: 0.3011 - acc: 0.981 - ETA: 4:31 - loss: 0.3009 - acc: 0.981 - ETA: 4:30 - loss: 0.3007 - acc: 0.981 - ETA: 4:30 - loss: 0.3010 - acc: 0.981 - ETA: 4:30 - loss: 0.3007 - acc: 0.981 - ETA: 4:29 - loss: 0.3006 - acc: 0.981 - ETA: 4:29 - loss: 0.3006 - acc: 0.981 - ETA: 4:28 - loss: 0.3006 - acc: 0.981 - ETA: 4:28 - loss: 0.3006 - acc: 0.981 - ETA: 4:28 - loss: 0.3005 - acc: 0.981 - ETA: 4:27 - loss: 0.3006 - acc: 0.981 - ETA: 4:27 - loss: 0.3006 - acc: 0.981 - ETA: 4:27 - loss: 0.3006 - acc: 0.981 - ETA: 4:26 - loss: 0.3003 - acc: 0.982 - ETA: 4:26 - loss: 0.3002 - acc: 0.982 - ETA: 4:25 - loss: 0.3002 - acc: 0.982 - ETA: 4:25 - loss: 0.3005 - acc: 0.982 - ETA: 4:25 - loss: 0.3003 - acc: 0.982 - ETA: 4:24 - loss: 0.3004 - acc: 0.982 - ETA: 4:24 - loss: 0.3003 - acc: 0.982 - ETA: 4:23 - loss: 0.3002 - acc: 0.982 - ETA: 4:23 - loss: 0.2999 - acc: 0.982 - ETA: 4:23 - loss: 0.2998 - acc: 0.982 - ETA: 4:22 - loss: 0.2999 - acc: 0.982 - ETA: 4:22 - loss: 0.2997 - acc: 0.982 - ETA: 4:21 - loss: 0.2996 - acc: 0.982 - ETA: 4:21 - loss: 0.2993 - acc: 0.982 - ETA: 4:21 - loss: 0.2999 - acc: 0.982 - ETA: 4:20 - loss: 0.2998 - acc: 0.982 - ETA: 4:20 - loss: 0.2998 - acc: 0.982 - ETA: 4:20 - loss: 0.2998 - acc: 0.982 - ETA: 4:19 - loss: 0.2994 - acc: 0.982 - ETA: 4:19 - loss: 0.2996 - acc: 0.982 - ETA: 4:19 - loss: 0.2996 - acc: 0.982 - ETA: 4:18 - loss: 0.2997 - acc: 0.982 - ETA: 4:18 - loss: 0.2998 - acc: 0.982 - ETA: 4:17 - loss: 0.2999 - acc: 0.982 - ETA: 4:17 - loss: 0.3001 - acc: 0.982 - ETA: 4:17 - loss: 0.3002 - acc: 0.982 - ETA: 4:16 - loss: 0.3001 - acc: 0.982 - ETA: 4:16 - loss: 0.3000 - acc: 0.982 - ETA: 4:16 - loss: 0.2999 - acc: 0.982 - ETA: 4:15 - loss: 0.2995 - acc: 0.982 - ETA: 4:15 - loss: 0.2995 - acc: 0.982 - ETA: 4:14 - loss: 0.2994 - acc: 0.982 - ETA: 4:14 - loss: 0.2995 - acc: 0.982 - ETA: 4:14 - loss: 0.2996 - acc: 0.982 - ETA: 4:13 - loss: 0.2997 - acc: 0.982 - ETA: 4:13 - loss: 0.3000 - acc: 0.982 - ETA: 4:13 - loss: 0.2999 - acc: 0.982 - ETA: 4:12 - loss: 0.2998 - acc: 0.982 - ETA: 4:12 - loss: 0.3000 - acc: 0.982 - ETA: 4:12 - loss: 0.3000 - acc: 0.982 - ETA: 4:11 - loss: 0.3000 - acc: 0.982 - ETA: 4:11 - loss: 0.2999 - acc: 0.982 - ETA: 4:11 - loss: 0.2999 - acc: 0.982 - ETA: 4:10 - loss: 0.2997 - acc: 0.982 - ETA: 4:10 - loss: 0.2998 - acc: 0.982 - ETA: 4:09 - loss: 0.2997 - acc: 0.982 - ETA: 4:09 - loss: 0.2997 - acc: 0.982 - ETA: 4:09 - loss: 0.2995 - acc: 0.982 - ETA: 4:08 - loss: 0.2993 - acc: 0.982 - ETA: 4:08 - loss: 0.2993 - acc: 0.982 - ETA: 4:07 - loss: 0.2994 - acc: 0.982 - ETA: 4:07 - loss: 0.2994 - acc: 0.982 - ETA: 4:07 - loss: 0.2992 - acc: 0.982 - ETA: 4:06 - loss: 0.2991 - acc: 0.982 - ETA: 4:06 - loss: 0.2993 - acc: 0.982 - ETA: 4:06 - loss: 0.2993 - acc: 0.982 - ETA: 4:05 - loss: 0.2992 - acc: 0.982 - ETA: 4:05 - loss: 0.2995 - acc: 0.982 - ETA: 4:04 - loss: 0.2991 - acc: 0.982 - ETA: 4:04 - loss: 0.2993 - acc: 0.982 - ETA: 4:04 - loss: 0.2991 - acc: 0.982 - ETA: 4:03 - loss: 0.2991 - acc: 0.982 - ETA: 4:03 - loss: 0.2989 - acc: 0.982 - ETA: 4:03 - loss: 0.2988 - acc: 0.982 - ETA: 4:02 - loss: 0.2988 - acc: 0.982 - ETA: 4:02 - loss: 0.2988 - acc: 0.982 - ETA: 4:02 - loss: 0.2989 - acc: 0.982 - ETA: 4:01 - loss: 0.2990 - acc: 0.982 - ETA: 4:01 - loss: 0.2991 - acc: 0.982 - ETA: 4:00 - loss: 0.2994 - acc: 0.982 - ETA: 4:00 - loss: 0.2992 - acc: 0.982 - ETA: 4:00 - loss: 0.2988 - acc: 0.982 - ETA: 3:59 - loss: 0.2989 - acc: 0.982 - ETA: 3:59 - loss: 0.2988 - acc: 0.982 - ETA: 3:59 - loss: 0.2987 - acc: 0.982 - ETA: 3:58 - loss: 0.2989 - acc: 0.982 - ETA: 3:58 - loss: 0.2993 - acc: 0.983 - ETA: 3:58 - loss: 0.2993 - acc: 0.983 - ETA: 3:57 - loss: 0.2995 - acc: 0.983 - ETA: 3:57 - loss: 0.2995 - acc: 0.983 - ETA: 3:57 - loss: 0.2991 - acc: 0.983 - ETA: 3:56 - loss: 0.2993 - acc: 0.9830"
     ]
    },
    {
     "name": "stdout",
     "output_type": "stream",
     "text": [
      " 81600/127656 [==================>...........] - ETA: 3:56 - loss: 0.2992 - acc: 0.983 - ETA: 3:55 - loss: 0.2992 - acc: 0.983 - ETA: 3:55 - loss: 0.2992 - acc: 0.983 - ETA: 3:55 - loss: 0.2995 - acc: 0.983 - ETA: 3:54 - loss: 0.2993 - acc: 0.983 - ETA: 3:54 - loss: 0.2991 - acc: 0.983 - ETA: 3:54 - loss: 0.2991 - acc: 0.983 - ETA: 3:53 - loss: 0.2992 - acc: 0.983 - ETA: 3:53 - loss: 0.2991 - acc: 0.983 - ETA: 3:52 - loss: 0.2991 - acc: 0.983 - ETA: 3:52 - loss: 0.2993 - acc: 0.983 - ETA: 3:52 - loss: 0.2994 - acc: 0.983 - ETA: 3:51 - loss: 0.2992 - acc: 0.983 - ETA: 3:51 - loss: 0.2994 - acc: 0.983 - ETA: 3:51 - loss: 0.2994 - acc: 0.983 - ETA: 3:50 - loss: 0.2994 - acc: 0.983 - ETA: 3:50 - loss: 0.2993 - acc: 0.983 - ETA: 3:49 - loss: 0.2991 - acc: 0.983 - ETA: 3:49 - loss: 0.2992 - acc: 0.983 - ETA: 3:49 - loss: 0.2990 - acc: 0.983 - ETA: 3:48 - loss: 0.2989 - acc: 0.983 - ETA: 3:48 - loss: 0.2989 - acc: 0.983 - ETA: 3:48 - loss: 0.2988 - acc: 0.983 - ETA: 3:47 - loss: 0.2987 - acc: 0.983 - ETA: 3:47 - loss: 0.2988 - acc: 0.983 - ETA: 3:46 - loss: 0.2989 - acc: 0.983 - ETA: 3:46 - loss: 0.2989 - acc: 0.983 - ETA: 3:46 - loss: 0.2985 - acc: 0.983 - ETA: 3:45 - loss: 0.2984 - acc: 0.983 - ETA: 3:45 - loss: 0.2983 - acc: 0.983 - ETA: 3:45 - loss: 0.2984 - acc: 0.983 - ETA: 3:44 - loss: 0.2983 - acc: 0.983 - ETA: 3:44 - loss: 0.2984 - acc: 0.983 - ETA: 3:44 - loss: 0.2986 - acc: 0.983 - ETA: 3:43 - loss: 0.2985 - acc: 0.983 - ETA: 3:43 - loss: 0.2987 - acc: 0.983 - ETA: 3:43 - loss: 0.2987 - acc: 0.983 - ETA: 3:42 - loss: 0.2988 - acc: 0.983 - ETA: 3:42 - loss: 0.2987 - acc: 0.983 - ETA: 3:41 - loss: 0.2986 - acc: 0.983 - ETA: 3:41 - loss: 0.2985 - acc: 0.983 - ETA: 3:41 - loss: 0.2992 - acc: 0.983 - ETA: 3:40 - loss: 0.2992 - acc: 0.983 - ETA: 3:40 - loss: 0.2989 - acc: 0.983 - ETA: 3:40 - loss: 0.2987 - acc: 0.983 - ETA: 3:39 - loss: 0.2987 - acc: 0.983 - ETA: 3:39 - loss: 0.2990 - acc: 0.983 - ETA: 3:39 - loss: 0.2988 - acc: 0.983 - ETA: 3:38 - loss: 0.2986 - acc: 0.983 - ETA: 3:38 - loss: 0.2986 - acc: 0.983 - ETA: 3:38 - loss: 0.2987 - acc: 0.983 - ETA: 3:37 - loss: 0.2986 - acc: 0.983 - ETA: 3:37 - loss: 0.2986 - acc: 0.983 - ETA: 3:37 - loss: 0.2985 - acc: 0.983 - ETA: 3:36 - loss: 0.2984 - acc: 0.983 - ETA: 3:36 - loss: 0.2983 - acc: 0.983 - ETA: 3:36 - loss: 0.2984 - acc: 0.983 - ETA: 3:35 - loss: 0.2984 - acc: 0.983 - ETA: 3:35 - loss: 0.2981 - acc: 0.983 - ETA: 3:34 - loss: 0.2979 - acc: 0.983 - ETA: 3:34 - loss: 0.2976 - acc: 0.983 - ETA: 3:34 - loss: 0.2979 - acc: 0.983 - ETA: 3:33 - loss: 0.2980 - acc: 0.983 - ETA: 3:33 - loss: 0.2979 - acc: 0.983 - ETA: 3:33 - loss: 0.2977 - acc: 0.983 - ETA: 3:32 - loss: 0.2978 - acc: 0.983 - ETA: 3:32 - loss: 0.2978 - acc: 0.983 - ETA: 3:32 - loss: 0.2980 - acc: 0.983 - ETA: 3:31 - loss: 0.2979 - acc: 0.983 - ETA: 3:31 - loss: 0.2976 - acc: 0.983 - ETA: 3:31 - loss: 0.2974 - acc: 0.983 - ETA: 3:30 - loss: 0.2972 - acc: 0.983 - ETA: 3:30 - loss: 0.2976 - acc: 0.983 - ETA: 3:29 - loss: 0.2975 - acc: 0.983 - ETA: 3:29 - loss: 0.2976 - acc: 0.983 - ETA: 3:29 - loss: 0.2976 - acc: 0.983 - ETA: 3:28 - loss: 0.2976 - acc: 0.983 - ETA: 3:28 - loss: 0.2975 - acc: 0.983 - ETA: 3:28 - loss: 0.2977 - acc: 0.983 - ETA: 3:27 - loss: 0.2977 - acc: 0.983 - ETA: 3:27 - loss: 0.2978 - acc: 0.983 - ETA: 3:26 - loss: 0.2979 - acc: 0.983 - ETA: 3:26 - loss: 0.2979 - acc: 0.983 - ETA: 3:26 - loss: 0.2978 - acc: 0.983 - ETA: 3:25 - loss: 0.2979 - acc: 0.983 - ETA: 3:25 - loss: 0.2977 - acc: 0.983 - ETA: 3:25 - loss: 0.2975 - acc: 0.983 - ETA: 3:24 - loss: 0.2975 - acc: 0.983 - ETA: 3:24 - loss: 0.2975 - acc: 0.983 - ETA: 3:24 - loss: 0.2974 - acc: 0.983 - ETA: 3:23 - loss: 0.2972 - acc: 0.983 - ETA: 3:23 - loss: 0.2970 - acc: 0.983 - ETA: 3:23 - loss: 0.2969 - acc: 0.983 - ETA: 3:22 - loss: 0.2970 - acc: 0.983 - ETA: 3:22 - loss: 0.2967 - acc: 0.983 - ETA: 3:22 - loss: 0.2966 - acc: 0.983 - ETA: 3:21 - loss: 0.2966 - acc: 0.983 - ETA: 3:21 - loss: 0.2964 - acc: 0.984 - ETA: 3:21 - loss: 0.2963 - acc: 0.984 - ETA: 3:20 - loss: 0.2961 - acc: 0.984 - ETA: 3:20 - loss: 0.2961 - acc: 0.984 - ETA: 3:20 - loss: 0.2961 - acc: 0.984 - ETA: 3:19 - loss: 0.2960 - acc: 0.984 - ETA: 3:19 - loss: 0.2960 - acc: 0.984 - ETA: 3:18 - loss: 0.2959 - acc: 0.984 - ETA: 3:18 - loss: 0.2957 - acc: 0.984 - ETA: 3:18 - loss: 0.2957 - acc: 0.984 - ETA: 3:17 - loss: 0.2959 - acc: 0.984 - ETA: 3:17 - loss: 0.2959 - acc: 0.984 - ETA: 3:17 - loss: 0.2960 - acc: 0.984 - ETA: 3:16 - loss: 0.2958 - acc: 0.984 - ETA: 3:16 - loss: 0.2957 - acc: 0.984 - ETA: 3:16 - loss: 0.2955 - acc: 0.984 - ETA: 3:15 - loss: 0.2954 - acc: 0.984 - ETA: 3:15 - loss: 0.2952 - acc: 0.984 - ETA: 3:15 - loss: 0.2951 - acc: 0.984 - ETA: 3:14 - loss: 0.2953 - acc: 0.984 - ETA: 3:14 - loss: 0.2954 - acc: 0.984 - ETA: 3:14 - loss: 0.2954 - acc: 0.984 - ETA: 3:13 - loss: 0.2954 - acc: 0.984 - ETA: 3:13 - loss: 0.2952 - acc: 0.984 - ETA: 3:12 - loss: 0.2952 - acc: 0.984 - ETA: 3:12 - loss: 0.2951 - acc: 0.984 - ETA: 3:12 - loss: 0.2950 - acc: 0.984 - ETA: 3:11 - loss: 0.2950 - acc: 0.984 - ETA: 3:11 - loss: 0.2948 - acc: 0.984 - ETA: 3:11 - loss: 0.2949 - acc: 0.984 - ETA: 3:10 - loss: 0.2949 - acc: 0.984 - ETA: 3:10 - loss: 0.2950 - acc: 0.984 - ETA: 3:10 - loss: 0.2948 - acc: 0.984 - ETA: 3:09 - loss: 0.2946 - acc: 0.984 - ETA: 3:09 - loss: 0.2948 - acc: 0.984 - ETA: 3:08 - loss: 0.2948 - acc: 0.984 - ETA: 3:08 - loss: 0.2947 - acc: 0.984 - ETA: 3:08 - loss: 0.2948 - acc: 0.984 - ETA: 3:07 - loss: 0.2946 - acc: 0.984 - ETA: 3:07 - loss: 0.2945 - acc: 0.984 - ETA: 3:07 - loss: 0.2944 - acc: 0.984 - ETA: 3:06 - loss: 0.2943 - acc: 0.984 - ETA: 3:06 - loss: 0.2942 - acc: 0.984 - ETA: 3:06 - loss: 0.2946 - acc: 0.984 - ETA: 3:05 - loss: 0.2948 - acc: 0.984 - ETA: 3:05 - loss: 0.2949 - acc: 0.984 - ETA: 3:05 - loss: 0.2949 - acc: 0.984 - ETA: 3:04 - loss: 0.2948 - acc: 0.984 - ETA: 3:04 - loss: 0.2946 - acc: 0.984 - ETA: 3:03 - loss: 0.2947 - acc: 0.984 - ETA: 3:03 - loss: 0.2947 - acc: 0.984 - ETA: 3:03 - loss: 0.2945 - acc: 0.984 - ETA: 3:02 - loss: 0.2942 - acc: 0.984 - ETA: 3:02 - loss: 0.2942 - acc: 0.984 - ETA: 3:02 - loss: 0.2942 - acc: 0.984 - ETA: 3:01 - loss: 0.2944 - acc: 0.984 - ETA: 3:01 - loss: 0.2948 - acc: 0.984 - ETA: 3:01 - loss: 0.2950 - acc: 0.984 - ETA: 3:00 - loss: 0.2949 - acc: 0.984 - ETA: 3:00 - loss: 0.2947 - acc: 0.984 - ETA: 2:59 - loss: 0.2946 - acc: 0.984 - ETA: 2:59 - loss: 0.2944 - acc: 0.984 - ETA: 2:59 - loss: 0.2948 - acc: 0.984 - ETA: 2:58 - loss: 0.2945 - acc: 0.984 - ETA: 2:58 - loss: 0.2946 - acc: 0.984 - ETA: 2:58 - loss: 0.2945 - acc: 0.984 - ETA: 2:57 - loss: 0.2943 - acc: 0.984 - ETA: 2:57 - loss: 0.2941 - acc: 0.984 - ETA: 2:57 - loss: 0.2942 - acc: 0.984 - ETA: 2:56 - loss: 0.2942 - acc: 0.984 - ETA: 2:56 - loss: 0.2944 - acc: 0.984 - ETA: 2:56 - loss: 0.2946 - acc: 0.984 - ETA: 2:55 - loss: 0.2947 - acc: 0.984 - ETA: 2:55 - loss: 0.2947 - acc: 0.984 - ETA: 2:54 - loss: 0.2949 - acc: 0.984 - ETA: 2:54 - loss: 0.2950 - acc: 0.984 - ETA: 2:54 - loss: 0.2948 - acc: 0.984 - ETA: 2:53 - loss: 0.2949 - acc: 0.984 - ETA: 2:53 - loss: 0.2949 - acc: 0.984 - ETA: 2:53 - loss: 0.2949 - acc: 0.984 - ETA: 2:52 - loss: 0.2947 - acc: 0.984 - ETA: 2:52 - loss: 0.2946 - acc: 0.984 - ETA: 2:52 - loss: 0.2947 - acc: 0.984 - ETA: 2:51 - loss: 0.2948 - acc: 0.984 - ETA: 2:51 - loss: 0.2949 - acc: 0.984 - ETA: 2:50 - loss: 0.2949 - acc: 0.984 - ETA: 2:50 - loss: 0.2949 - acc: 0.984 - ETA: 2:50 - loss: 0.2950 - acc: 0.984 - ETA: 2:49 - loss: 0.2952 - acc: 0.984 - ETA: 2:49 - loss: 0.2953 - acc: 0.984 - ETA: 2:49 - loss: 0.2953 - acc: 0.984 - ETA: 2:48 - loss: 0.2954 - acc: 0.984 - ETA: 2:48 - loss: 0.2956 - acc: 0.984 - ETA: 2:48 - loss: 0.2955 - acc: 0.984 - ETA: 2:47 - loss: 0.2958 - acc: 0.984 - ETA: 2:47 - loss: 0.2956 - acc: 0.984 - ETA: 2:46 - loss: 0.2955 - acc: 0.984 - ETA: 2:46 - loss: 0.2958 - acc: 0.984 - ETA: 2:46 - loss: 0.2958 - acc: 0.984 - ETA: 2:45 - loss: 0.2960 - acc: 0.984 - ETA: 2:45 - loss: 0.2960 - acc: 0.984 - ETA: 2:45 - loss: 0.2960 - acc: 0.984 - ETA: 2:44 - loss: 0.2958 - acc: 0.984 - ETA: 2:44 - loss: 0.2958 - acc: 0.984 - ETA: 2:44 - loss: 0.2959 - acc: 0.984 - ETA: 2:43 - loss: 0.2957 - acc: 0.984 - ETA: 2:43 - loss: 0.2957 - acc: 0.9845"
     ]
    },
    {
     "name": "stdout",
     "output_type": "stream",
     "text": [
      "102000/127656 [======================>.......] - ETA: 2:42 - loss: 0.2957 - acc: 0.984 - ETA: 2:42 - loss: 0.2960 - acc: 0.984 - ETA: 2:42 - loss: 0.2958 - acc: 0.984 - ETA: 2:41 - loss: 0.2958 - acc: 0.984 - ETA: 2:41 - loss: 0.2959 - acc: 0.984 - ETA: 2:41 - loss: 0.2960 - acc: 0.984 - ETA: 2:40 - loss: 0.2961 - acc: 0.984 - ETA: 2:40 - loss: 0.2963 - acc: 0.984 - ETA: 2:40 - loss: 0.2967 - acc: 0.984 - ETA: 2:39 - loss: 0.2965 - acc: 0.984 - ETA: 2:39 - loss: 0.2965 - acc: 0.984 - ETA: 2:38 - loss: 0.2964 - acc: 0.984 - ETA: 2:38 - loss: 0.2964 - acc: 0.984 - ETA: 2:38 - loss: 0.2966 - acc: 0.984 - ETA: 2:37 - loss: 0.2968 - acc: 0.984 - ETA: 2:37 - loss: 0.2967 - acc: 0.984 - ETA: 2:37 - loss: 0.2966 - acc: 0.984 - ETA: 2:36 - loss: 0.2964 - acc: 0.984 - ETA: 2:36 - loss: 0.2964 - acc: 0.984 - ETA: 2:36 - loss: 0.2963 - acc: 0.984 - ETA: 2:35 - loss: 0.2961 - acc: 0.984 - ETA: 2:35 - loss: 0.2961 - acc: 0.984 - ETA: 2:34 - loss: 0.2959 - acc: 0.984 - ETA: 2:34 - loss: 0.2959 - acc: 0.984 - ETA: 2:34 - loss: 0.2961 - acc: 0.984 - ETA: 2:33 - loss: 0.2961 - acc: 0.984 - ETA: 2:33 - loss: 0.2961 - acc: 0.984 - ETA: 2:33 - loss: 0.2961 - acc: 0.984 - ETA: 2:32 - loss: 0.2962 - acc: 0.984 - ETA: 2:32 - loss: 0.2964 - acc: 0.984 - ETA: 2:32 - loss: 0.2962 - acc: 0.984 - ETA: 2:31 - loss: 0.2960 - acc: 0.984 - ETA: 2:31 - loss: 0.2960 - acc: 0.984 - ETA: 2:30 - loss: 0.2959 - acc: 0.984 - ETA: 2:30 - loss: 0.2959 - acc: 0.984 - ETA: 2:30 - loss: 0.2958 - acc: 0.984 - ETA: 2:29 - loss: 0.2960 - acc: 0.984 - ETA: 2:29 - loss: 0.2961 - acc: 0.984 - ETA: 2:29 - loss: 0.2964 - acc: 0.984 - ETA: 2:28 - loss: 0.2963 - acc: 0.984 - ETA: 2:28 - loss: 0.2965 - acc: 0.984 - ETA: 2:27 - loss: 0.2964 - acc: 0.984 - ETA: 2:27 - loss: 0.2965 - acc: 0.984 - ETA: 2:27 - loss: 0.2964 - acc: 0.984 - ETA: 2:26 - loss: 0.2965 - acc: 0.984 - ETA: 2:26 - loss: 0.2964 - acc: 0.984 - ETA: 2:26 - loss: 0.2962 - acc: 0.984 - ETA: 2:25 - loss: 0.2961 - acc: 0.984 - ETA: 2:25 - loss: 0.2960 - acc: 0.984 - ETA: 2:25 - loss: 0.2960 - acc: 0.984 - ETA: 2:24 - loss: 0.2957 - acc: 0.984 - ETA: 2:24 - loss: 0.2958 - acc: 0.984 - ETA: 2:24 - loss: 0.2957 - acc: 0.984 - ETA: 2:23 - loss: 0.2955 - acc: 0.984 - ETA: 2:23 - loss: 0.2953 - acc: 0.984 - ETA: 2:22 - loss: 0.2955 - acc: 0.984 - ETA: 2:22 - loss: 0.2954 - acc: 0.984 - ETA: 2:22 - loss: 0.2958 - acc: 0.984 - ETA: 2:21 - loss: 0.2959 - acc: 0.984 - ETA: 2:21 - loss: 0.2957 - acc: 0.984 - ETA: 2:21 - loss: 0.2958 - acc: 0.984 - ETA: 2:20 - loss: 0.2958 - acc: 0.984 - ETA: 2:20 - loss: 0.2960 - acc: 0.984 - ETA: 2:20 - loss: 0.2959 - acc: 0.984 - ETA: 2:19 - loss: 0.2957 - acc: 0.984 - ETA: 2:19 - loss: 0.2956 - acc: 0.984 - ETA: 2:19 - loss: 0.2955 - acc: 0.984 - ETA: 2:18 - loss: 0.2956 - acc: 0.984 - ETA: 2:18 - loss: 0.2957 - acc: 0.984 - ETA: 2:17 - loss: 0.2960 - acc: 0.984 - ETA: 2:17 - loss: 0.2961 - acc: 0.984 - ETA: 2:17 - loss: 0.2963 - acc: 0.984 - ETA: 2:16 - loss: 0.2961 - acc: 0.984 - ETA: 2:16 - loss: 0.2961 - acc: 0.984 - ETA: 2:16 - loss: 0.2959 - acc: 0.984 - ETA: 2:15 - loss: 0.2958 - acc: 0.984 - ETA: 2:15 - loss: 0.2961 - acc: 0.984 - ETA: 2:15 - loss: 0.2962 - acc: 0.984 - ETA: 2:14 - loss: 0.2961 - acc: 0.984 - ETA: 2:14 - loss: 0.2959 - acc: 0.984 - ETA: 2:14 - loss: 0.2962 - acc: 0.984 - ETA: 2:13 - loss: 0.2962 - acc: 0.984 - ETA: 2:13 - loss: 0.2963 - acc: 0.984 - ETA: 2:12 - loss: 0.2963 - acc: 0.984 - ETA: 2:12 - loss: 0.2963 - acc: 0.984 - ETA: 2:12 - loss: 0.2963 - acc: 0.984 - ETA: 2:11 - loss: 0.2963 - acc: 0.984 - ETA: 2:11 - loss: 0.2961 - acc: 0.984 - ETA: 2:11 - loss: 0.2962 - acc: 0.984 - ETA: 2:10 - loss: 0.2964 - acc: 0.984 - ETA: 2:10 - loss: 0.2965 - acc: 0.984 - ETA: 2:10 - loss: 0.2965 - acc: 0.984 - ETA: 2:09 - loss: 0.2965 - acc: 0.984 - ETA: 2:09 - loss: 0.2965 - acc: 0.984 - ETA: 2:09 - loss: 0.2967 - acc: 0.984 - ETA: 2:08 - loss: 0.2967 - acc: 0.984 - ETA: 2:08 - loss: 0.2965 - acc: 0.984 - ETA: 2:07 - loss: 0.2967 - acc: 0.984 - ETA: 2:07 - loss: 0.2969 - acc: 0.984 - ETA: 2:07 - loss: 0.2970 - acc: 0.984 - ETA: 2:06 - loss: 0.2971 - acc: 0.984 - ETA: 2:06 - loss: 0.2970 - acc: 0.984 - ETA: 2:06 - loss: 0.2972 - acc: 0.984 - ETA: 2:05 - loss: 0.2973 - acc: 0.984 - ETA: 2:05 - loss: 0.2971 - acc: 0.984 - ETA: 2:05 - loss: 0.2970 - acc: 0.984 - ETA: 2:04 - loss: 0.2972 - acc: 0.984 - ETA: 2:04 - loss: 0.2972 - acc: 0.984 - ETA: 2:03 - loss: 0.2973 - acc: 0.984 - ETA: 2:03 - loss: 0.2972 - acc: 0.984 - ETA: 2:03 - loss: 0.2972 - acc: 0.984 - ETA: 2:02 - loss: 0.2971 - acc: 0.984 - ETA: 2:02 - loss: 0.2971 - acc: 0.984 - ETA: 2:02 - loss: 0.2972 - acc: 0.984 - ETA: 2:01 - loss: 0.2971 - acc: 0.984 - ETA: 2:01 - loss: 0.2972 - acc: 0.984 - ETA: 2:01 - loss: 0.2969 - acc: 0.984 - ETA: 2:00 - loss: 0.2971 - acc: 0.984 - ETA: 2:00 - loss: 0.2971 - acc: 0.984 - ETA: 2:00 - loss: 0.2972 - acc: 0.984 - ETA: 1:59 - loss: 0.2971 - acc: 0.984 - ETA: 1:59 - loss: 0.2973 - acc: 0.984 - ETA: 1:58 - loss: 0.2972 - acc: 0.984 - ETA: 1:58 - loss: 0.2973 - acc: 0.984 - ETA: 1:58 - loss: 0.2971 - acc: 0.984 - ETA: 1:57 - loss: 0.2972 - acc: 0.984 - ETA: 1:57 - loss: 0.2971 - acc: 0.984 - ETA: 1:57 - loss: 0.2972 - acc: 0.984 - ETA: 1:56 - loss: 0.2972 - acc: 0.984 - ETA: 1:56 - loss: 0.2975 - acc: 0.984 - ETA: 1:56 - loss: 0.2973 - acc: 0.984 - ETA: 1:55 - loss: 0.2975 - acc: 0.984 - ETA: 1:55 - loss: 0.2973 - acc: 0.984 - ETA: 1:55 - loss: 0.2973 - acc: 0.984 - ETA: 1:54 - loss: 0.2974 - acc: 0.984 - ETA: 1:54 - loss: 0.2977 - acc: 0.984 - ETA: 1:53 - loss: 0.2976 - acc: 0.984 - ETA: 1:53 - loss: 0.2976 - acc: 0.984 - ETA: 1:53 - loss: 0.2975 - acc: 0.984 - ETA: 1:52 - loss: 0.2975 - acc: 0.984 - ETA: 1:52 - loss: 0.2973 - acc: 0.984 - ETA: 1:52 - loss: 0.2972 - acc: 0.984 - ETA: 1:51 - loss: 0.2971 - acc: 0.984 - ETA: 1:51 - loss: 0.2971 - acc: 0.984 - ETA: 1:51 - loss: 0.2970 - acc: 0.984 - ETA: 1:50 - loss: 0.2970 - acc: 0.984 - ETA: 1:50 - loss: 0.2971 - acc: 0.984 - ETA: 1:50 - loss: 0.2971 - acc: 0.984 - ETA: 1:49 - loss: 0.2970 - acc: 0.984 - ETA: 1:49 - loss: 0.2971 - acc: 0.984 - ETA: 1:48 - loss: 0.2972 - acc: 0.984 - ETA: 1:48 - loss: 0.2972 - acc: 0.984 - ETA: 1:48 - loss: 0.2971 - acc: 0.984 - ETA: 1:47 - loss: 0.2971 - acc: 0.984 - ETA: 1:47 - loss: 0.2970 - acc: 0.984 - ETA: 1:47 - loss: 0.2969 - acc: 0.984 - ETA: 1:46 - loss: 0.2967 - acc: 0.984 - ETA: 1:46 - loss: 0.2966 - acc: 0.984 - ETA: 1:46 - loss: 0.2968 - acc: 0.984 - ETA: 1:45 - loss: 0.2969 - acc: 0.984 - ETA: 1:45 - loss: 0.2968 - acc: 0.984 - ETA: 1:45 - loss: 0.2967 - acc: 0.984 - ETA: 1:44 - loss: 0.2965 - acc: 0.984 - ETA: 1:44 - loss: 0.2964 - acc: 0.984 - ETA: 1:43 - loss: 0.2964 - acc: 0.984 - ETA: 1:43 - loss: 0.2964 - acc: 0.984 - ETA: 1:43 - loss: 0.2963 - acc: 0.984 - ETA: 1:42 - loss: 0.2963 - acc: 0.984 - ETA: 1:42 - loss: 0.2962 - acc: 0.984 - ETA: 1:42 - loss: 0.2960 - acc: 0.984 - ETA: 1:41 - loss: 0.2959 - acc: 0.984 - ETA: 1:41 - loss: 0.2961 - acc: 0.984 - ETA: 1:41 - loss: 0.2961 - acc: 0.984 - ETA: 1:40 - loss: 0.2963 - acc: 0.984 - ETA: 1:40 - loss: 0.2962 - acc: 0.984 - ETA: 1:40 - loss: 0.2963 - acc: 0.984 - ETA: 1:39 - loss: 0.2964 - acc: 0.984 - ETA: 1:39 - loss: 0.2963 - acc: 0.984 - ETA: 1:38 - loss: 0.2965 - acc: 0.984 - ETA: 1:38 - loss: 0.2966 - acc: 0.984 - ETA: 1:38 - loss: 0.2967 - acc: 0.984 - ETA: 1:37 - loss: 0.2965 - acc: 0.984 - ETA: 1:37 - loss: 0.2964 - acc: 0.984 - ETA: 1:37 - loss: 0.2966 - acc: 0.984 - ETA: 1:36 - loss: 0.2967 - acc: 0.984 - ETA: 1:36 - loss: 0.2966 - acc: 0.984 - ETA: 1:36 - loss: 0.2966 - acc: 0.984 - ETA: 1:35 - loss: 0.2966 - acc: 0.984 - ETA: 1:35 - loss: 0.2970 - acc: 0.984 - ETA: 1:35 - loss: 0.2972 - acc: 0.984 - ETA: 1:34 - loss: 0.2970 - acc: 0.984 - ETA: 1:34 - loss: 0.2969 - acc: 0.984 - ETA: 1:33 - loss: 0.2968 - acc: 0.984 - ETA: 1:33 - loss: 0.2967 - acc: 0.984 - ETA: 1:33 - loss: 0.2966 - acc: 0.984 - ETA: 1:32 - loss: 0.2967 - acc: 0.984 - ETA: 1:32 - loss: 0.2968 - acc: 0.984 - ETA: 1:32 - loss: 0.2969 - acc: 0.984 - ETA: 1:31 - loss: 0.2969 - acc: 0.984 - ETA: 1:31 - loss: 0.2970 - acc: 0.984 - ETA: 1:31 - loss: 0.2970 - acc: 0.984 - ETA: 1:30 - loss: 0.2970 - acc: 0.984 - ETA: 1:30 - loss: 0.2970 - acc: 0.984 - ETA: 1:30 - loss: 0.2969 - acc: 0.9846"
     ]
    },
    {
     "name": "stdout",
     "output_type": "stream",
     "text": [
      "123000/127656 [===========================>..] - ETA: 1:29 - loss: 0.2969 - acc: 0.984 - ETA: 1:29 - loss: 0.2968 - acc: 0.984 - ETA: 1:28 - loss: 0.2970 - acc: 0.984 - ETA: 1:28 - loss: 0.2968 - acc: 0.984 - ETA: 1:28 - loss: 0.2969 - acc: 0.984 - ETA: 1:27 - loss: 0.2968 - acc: 0.984 - ETA: 1:27 - loss: 0.2968 - acc: 0.984 - ETA: 1:27 - loss: 0.2968 - acc: 0.984 - ETA: 1:26 - loss: 0.2969 - acc: 0.984 - ETA: 1:26 - loss: 0.2971 - acc: 0.984 - ETA: 1:26 - loss: 0.2970 - acc: 0.984 - ETA: 1:25 - loss: 0.2972 - acc: 0.984 - ETA: 1:25 - loss: 0.2972 - acc: 0.984 - ETA: 1:25 - loss: 0.2972 - acc: 0.984 - ETA: 1:24 - loss: 0.2971 - acc: 0.984 - ETA: 1:24 - loss: 0.2972 - acc: 0.984 - ETA: 1:23 - loss: 0.2972 - acc: 0.984 - ETA: 1:23 - loss: 0.2971 - acc: 0.984 - ETA: 1:23 - loss: 0.2971 - acc: 0.984 - ETA: 1:22 - loss: 0.2971 - acc: 0.984 - ETA: 1:22 - loss: 0.2969 - acc: 0.984 - ETA: 1:22 - loss: 0.2968 - acc: 0.984 - ETA: 1:21 - loss: 0.2968 - acc: 0.984 - ETA: 1:21 - loss: 0.2968 - acc: 0.984 - ETA: 1:21 - loss: 0.2967 - acc: 0.984 - ETA: 1:20 - loss: 0.2967 - acc: 0.984 - ETA: 1:20 - loss: 0.2968 - acc: 0.984 - ETA: 1:20 - loss: 0.2967 - acc: 0.984 - ETA: 1:19 - loss: 0.2968 - acc: 0.984 - ETA: 1:19 - loss: 0.2968 - acc: 0.984 - ETA: 1:19 - loss: 0.2966 - acc: 0.984 - ETA: 1:18 - loss: 0.2965 - acc: 0.984 - ETA: 1:18 - loss: 0.2966 - acc: 0.984 - ETA: 1:17 - loss: 0.2967 - acc: 0.984 - ETA: 1:17 - loss: 0.2966 - acc: 0.984 - ETA: 1:17 - loss: 0.2965 - acc: 0.984 - ETA: 1:16 - loss: 0.2965 - acc: 0.984 - ETA: 1:16 - loss: 0.2966 - acc: 0.984 - ETA: 1:16 - loss: 0.2966 - acc: 0.984 - ETA: 1:15 - loss: 0.2967 - acc: 0.984 - ETA: 1:15 - loss: 0.2968 - acc: 0.984 - ETA: 1:15 - loss: 0.2967 - acc: 0.984 - ETA: 1:14 - loss: 0.2968 - acc: 0.984 - ETA: 1:14 - loss: 0.2968 - acc: 0.984 - ETA: 1:14 - loss: 0.2968 - acc: 0.984 - ETA: 1:13 - loss: 0.2967 - acc: 0.984 - ETA: 1:13 - loss: 0.2967 - acc: 0.984 - ETA: 1:12 - loss: 0.2969 - acc: 0.984 - ETA: 1:12 - loss: 0.2970 - acc: 0.984 - ETA: 1:12 - loss: 0.2969 - acc: 0.984 - ETA: 1:11 - loss: 0.2969 - acc: 0.984 - ETA: 1:11 - loss: 0.2970 - acc: 0.984 - ETA: 1:11 - loss: 0.2969 - acc: 0.984 - ETA: 1:10 - loss: 0.2968 - acc: 0.984 - ETA: 1:10 - loss: 0.2968 - acc: 0.984 - ETA: 1:10 - loss: 0.2968 - acc: 0.984 - ETA: 1:09 - loss: 0.2970 - acc: 0.984 - ETA: 1:09 - loss: 0.2970 - acc: 0.984 - ETA: 1:09 - loss: 0.2969 - acc: 0.984 - ETA: 1:08 - loss: 0.2970 - acc: 0.984 - ETA: 1:08 - loss: 0.2971 - acc: 0.984 - ETA: 1:08 - loss: 0.2970 - acc: 0.984 - ETA: 1:07 - loss: 0.2972 - acc: 0.984 - ETA: 1:07 - loss: 0.2973 - acc: 0.984 - ETA: 1:06 - loss: 0.2974 - acc: 0.984 - ETA: 1:06 - loss: 0.2973 - acc: 0.984 - ETA: 1:06 - loss: 0.2974 - acc: 0.984 - ETA: 1:05 - loss: 0.2974 - acc: 0.984 - ETA: 1:05 - loss: 0.2973 - acc: 0.984 - ETA: 1:05 - loss: 0.2972 - acc: 0.984 - ETA: 1:04 - loss: 0.2973 - acc: 0.984 - ETA: 1:04 - loss: 0.2973 - acc: 0.984 - ETA: 1:04 - loss: 0.2972 - acc: 0.984 - ETA: 1:03 - loss: 0.2971 - acc: 0.984 - ETA: 1:03 - loss: 0.2972 - acc: 0.984 - ETA: 1:03 - loss: 0.2972 - acc: 0.984 - ETA: 1:02 - loss: 0.2973 - acc: 0.984 - ETA: 1:02 - loss: 0.2972 - acc: 0.984 - ETA: 1:02 - loss: 0.2973 - acc: 0.984 - ETA: 1:01 - loss: 0.2974 - acc: 0.984 - ETA: 1:01 - loss: 0.2974 - acc: 0.984 - ETA: 1:00 - loss: 0.2974 - acc: 0.984 - ETA: 1:00 - loss: 0.2973 - acc: 0.984 - ETA: 1:00 - loss: 0.2973 - acc: 0.984 - ETA: 59s - loss: 0.2974 - acc: 0.984 - ETA: 59s - loss: 0.2974 - acc: 0.98 - ETA: 59s - loss: 0.2973 - acc: 0.98 - ETA: 58s - loss: 0.2974 - acc: 0.98 - ETA: 58s - loss: 0.2973 - acc: 0.98 - ETA: 58s - loss: 0.2973 - acc: 0.98 - ETA: 57s - loss: 0.2973 - acc: 0.98 - ETA: 57s - loss: 0.2973 - acc: 0.98 - ETA: 57s - loss: 0.2971 - acc: 0.98 - ETA: 56s - loss: 0.2971 - acc: 0.98 - ETA: 56s - loss: 0.2972 - acc: 0.98 - ETA: 56s - loss: 0.2971 - acc: 0.98 - ETA: 55s - loss: 0.2970 - acc: 0.98 - ETA: 55s - loss: 0.2969 - acc: 0.98 - ETA: 55s - loss: 0.2970 - acc: 0.98 - ETA: 54s - loss: 0.2970 - acc: 0.98 - ETA: 54s - loss: 0.2970 - acc: 0.98 - ETA: 53s - loss: 0.2969 - acc: 0.98 - ETA: 53s - loss: 0.2970 - acc: 0.98 - ETA: 53s - loss: 0.2969 - acc: 0.98 - ETA: 52s - loss: 0.2969 - acc: 0.98 - ETA: 52s - loss: 0.2971 - acc: 0.98 - ETA: 52s - loss: 0.2971 - acc: 0.98 - ETA: 51s - loss: 0.2971 - acc: 0.98 - ETA: 51s - loss: 0.2972 - acc: 0.98 - ETA: 51s - loss: 0.2973 - acc: 0.98 - ETA: 50s - loss: 0.2975 - acc: 0.98 - ETA: 50s - loss: 0.2974 - acc: 0.98 - ETA: 50s - loss: 0.2973 - acc: 0.98 - ETA: 49s - loss: 0.2973 - acc: 0.98 - ETA: 49s - loss: 0.2972 - acc: 0.98 - ETA: 49s - loss: 0.2973 - acc: 0.98 - ETA: 48s - loss: 0.2973 - acc: 0.98 - ETA: 48s - loss: 0.2971 - acc: 0.98 - ETA: 48s - loss: 0.2970 - acc: 0.98 - ETA: 47s - loss: 0.2969 - acc: 0.98 - ETA: 47s - loss: 0.2968 - acc: 0.98 - ETA: 46s - loss: 0.2969 - acc: 0.98 - ETA: 46s - loss: 0.2967 - acc: 0.98 - ETA: 46s - loss: 0.2966 - acc: 0.98 - ETA: 45s - loss: 0.2965 - acc: 0.98 - ETA: 45s - loss: 0.2966 - acc: 0.98 - ETA: 45s - loss: 0.2965 - acc: 0.98 - ETA: 44s - loss: 0.2965 - acc: 0.98 - ETA: 44s - loss: 0.2964 - acc: 0.98 - ETA: 44s - loss: 0.2962 - acc: 0.98 - ETA: 43s - loss: 0.2961 - acc: 0.98 - ETA: 43s - loss: 0.2962 - acc: 0.98 - ETA: 43s - loss: 0.2961 - acc: 0.98 - ETA: 42s - loss: 0.2961 - acc: 0.98 - ETA: 42s - loss: 0.2962 - acc: 0.98 - ETA: 42s - loss: 0.2962 - acc: 0.98 - ETA: 41s - loss: 0.2961 - acc: 0.98 - ETA: 41s - loss: 0.2961 - acc: 0.98 - ETA: 41s - loss: 0.2962 - acc: 0.98 - ETA: 40s - loss: 0.2961 - acc: 0.98 - ETA: 40s - loss: 0.2962 - acc: 0.98 - ETA: 39s - loss: 0.2964 - acc: 0.98 - ETA: 39s - loss: 0.2964 - acc: 0.98 - ETA: 39s - loss: 0.2965 - acc: 0.98 - ETA: 38s - loss: 0.2964 - acc: 0.98 - ETA: 38s - loss: 0.2962 - acc: 0.98 - ETA: 38s - loss: 0.2962 - acc: 0.98 - ETA: 37s - loss: 0.2962 - acc: 0.98 - ETA: 37s - loss: 0.2961 - acc: 0.98 - ETA: 37s - loss: 0.2961 - acc: 0.98 - ETA: 36s - loss: 0.2962 - acc: 0.98 - ETA: 36s - loss: 0.2961 - acc: 0.98 - ETA: 36s - loss: 0.2961 - acc: 0.98 - ETA: 35s - loss: 0.2962 - acc: 0.98 - ETA: 35s - loss: 0.2962 - acc: 0.98 - ETA: 35s - loss: 0.2960 - acc: 0.98 - ETA: 34s - loss: 0.2960 - acc: 0.98 - ETA: 34s - loss: 0.2960 - acc: 0.98 - ETA: 34s - loss: 0.2961 - acc: 0.98 - ETA: 33s - loss: 0.2960 - acc: 0.98 - ETA: 33s - loss: 0.2961 - acc: 0.98 - ETA: 32s - loss: 0.2961 - acc: 0.98 - ETA: 32s - loss: 0.2963 - acc: 0.98 - ETA: 32s - loss: 0.2962 - acc: 0.98 - ETA: 31s - loss: 0.2961 - acc: 0.98 - ETA: 31s - loss: 0.2961 - acc: 0.98 - ETA: 31s - loss: 0.2960 - acc: 0.98 - ETA: 30s - loss: 0.2958 - acc: 0.98 - ETA: 30s - loss: 0.2956 - acc: 0.98 - ETA: 30s - loss: 0.2956 - acc: 0.98 - ETA: 29s - loss: 0.2955 - acc: 0.98 - ETA: 29s - loss: 0.2954 - acc: 0.98 - ETA: 29s - loss: 0.2955 - acc: 0.98 - ETA: 28s - loss: 0.2955 - acc: 0.98 - ETA: 28s - loss: 0.2956 - acc: 0.98 - ETA: 28s - loss: 0.2956 - acc: 0.98 - ETA: 27s - loss: 0.2957 - acc: 0.98 - ETA: 27s - loss: 0.2956 - acc: 0.98 - ETA: 27s - loss: 0.2955 - acc: 0.98 - ETA: 26s - loss: 0.2955 - acc: 0.98 - ETA: 26s - loss: 0.2954 - acc: 0.98 - ETA: 25s - loss: 0.2953 - acc: 0.98 - ETA: 25s - loss: 0.2952 - acc: 0.98 - ETA: 25s - loss: 0.2955 - acc: 0.98 - ETA: 24s - loss: 0.2954 - acc: 0.98 - ETA: 24s - loss: 0.2956 - acc: 0.98 - ETA: 24s - loss: 0.2956 - acc: 0.98 - ETA: 23s - loss: 0.2956 - acc: 0.98 - ETA: 23s - loss: 0.2956 - acc: 0.98 - ETA: 23s - loss: 0.2954 - acc: 0.98 - ETA: 22s - loss: 0.2955 - acc: 0.98 - ETA: 22s - loss: 0.2954 - acc: 0.98 - ETA: 22s - loss: 0.2954 - acc: 0.98 - ETA: 21s - loss: 0.2953 - acc: 0.98 - ETA: 21s - loss: 0.2952 - acc: 0.98 - ETA: 21s - loss: 0.2951 - acc: 0.98 - ETA: 20s - loss: 0.2951 - acc: 0.98 - ETA: 20s - loss: 0.2950 - acc: 0.98 - ETA: 20s - loss: 0.2950 - acc: 0.98 - ETA: 19s - loss: 0.2950 - acc: 0.98 - ETA: 19s - loss: 0.2951 - acc: 0.98 - ETA: 19s - loss: 0.2952 - acc: 0.98 - ETA: 18s - loss: 0.2953 - acc: 0.98 - ETA: 18s - loss: 0.2952 - acc: 0.98 - ETA: 17s - loss: 0.2952 - acc: 0.98 - ETA: 17s - loss: 0.2953 - acc: 0.98 - ETA: 17s - loss: 0.2952 - acc: 0.98 - ETA: 16s - loss: 0.2953 - acc: 0.98 - ETA: 16s - loss: 0.2954 - acc: 0.98 - ETA: 16s - loss: 0.2953 - acc: 0.9846"
     ]
    },
    {
     "name": "stdout",
     "output_type": "stream",
     "text": [
      "127656/127656 [==============================] - ETA: 15s - loss: 0.2954 - acc: 0.98 - ETA: 15s - loss: 0.2956 - acc: 0.98 - ETA: 15s - loss: 0.2956 - acc: 0.98 - ETA: 14s - loss: 0.2955 - acc: 0.98 - ETA: 14s - loss: 0.2954 - acc: 0.98 - ETA: 14s - loss: 0.2955 - acc: 0.98 - ETA: 13s - loss: 0.2954 - acc: 0.98 - ETA: 13s - loss: 0.2953 - acc: 0.98 - ETA: 13s - loss: 0.2953 - acc: 0.98 - ETA: 12s - loss: 0.2952 - acc: 0.98 - ETA: 12s - loss: 0.2953 - acc: 0.98 - ETA: 12s - loss: 0.2951 - acc: 0.98 - ETA: 11s - loss: 0.2951 - acc: 0.98 - ETA: 11s - loss: 0.2950 - acc: 0.98 - ETA: 10s - loss: 0.2952 - acc: 0.98 - ETA: 10s - loss: 0.2952 - acc: 0.98 - ETA: 10s - loss: 0.2951 - acc: 0.98 - ETA: 9s - loss: 0.2952 - acc: 0.9846 - ETA: 9s - loss: 0.2952 - acc: 0.984 - ETA: 9s - loss: 0.2954 - acc: 0.984 - ETA: 8s - loss: 0.2953 - acc: 0.984 - ETA: 8s - loss: 0.2953 - acc: 0.984 - ETA: 8s - loss: 0.2952 - acc: 0.984 - ETA: 7s - loss: 0.2953 - acc: 0.984 - ETA: 7s - loss: 0.2952 - acc: 0.984 - ETA: 7s - loss: 0.2955 - acc: 0.984 - ETA: 6s - loss: 0.2956 - acc: 0.984 - ETA: 6s - loss: 0.2956 - acc: 0.984 - ETA: 6s - loss: 0.2957 - acc: 0.984 - ETA: 5s - loss: 0.2958 - acc: 0.984 - ETA: 5s - loss: 0.2959 - acc: 0.984 - ETA: 5s - loss: 0.2959 - acc: 0.984 - ETA: 4s - loss: 0.2959 - acc: 0.984 - ETA: 4s - loss: 0.2959 - acc: 0.984 - ETA: 4s - loss: 0.2958 - acc: 0.984 - ETA: 3s - loss: 0.2958 - acc: 0.984 - ETA: 3s - loss: 0.2959 - acc: 0.984 - ETA: 2s - loss: 0.2959 - acc: 0.984 - ETA: 2s - loss: 0.2959 - acc: 0.984 - ETA: 2s - loss: 0.2959 - acc: 0.984 - ETA: 1s - loss: 0.2962 - acc: 0.984 - ETA: 1s - loss: 0.2962 - acc: 0.984 - ETA: 1s - loss: 0.2962 - acc: 0.984 - ETA: 0s - loss: 0.2961 - acc: 0.984 - ETA: 0s - loss: 0.2961 - acc: 0.984 - ETA: 0s - loss: 0.2959 - acc: 0.984 - 469s 4ms/step - loss: 0.2959 - acc: 0.9846 - val_loss: 0.2888 - val_acc: 0.9924\n"
     ]
    }
   ],
   "source": [
    "model_history=model.fit(X_train,Y,batch_size=100,epochs=1 ,validation_split=0.2,callbacks=[tb])"
   ]
  },
  {
   "cell_type": "code",
   "execution_count": 24,
   "metadata": {},
   "outputs": [],
   "source": [
    "y_pred = model.predict(X_test, batch_size=100)"
   ]
  },
  {
   "cell_type": "code",
   "execution_count": 25,
   "metadata": {},
   "outputs": [
    {
     "data": {
      "text/plain": [
       "array([[0.42071345, 0.03487019, 0.26586044, 0.00651586, 0.2347856 ,\n",
       "        0.03725438],\n",
       "       [0.60784286, 0.01024562, 0.15618889, 0.00398194, 0.17822668,\n",
       "        0.0435139 ],\n",
       "       [0.6502242 , 0.01338595, 0.12405343, 0.00735902, 0.15246603,\n",
       "        0.05251145],\n",
       "       ...,\n",
       "       [0.53324217, 0.01256178, 0.20461495, 0.00299194, 0.21184888,\n",
       "        0.03474032],\n",
       "       [0.5585893 , 0.01305625, 0.13825536, 0.01095262, 0.18917696,\n",
       "        0.08996949],\n",
       "       [0.6100617 , 0.00920834, 0.12054853, 0.00713996, 0.19060785,\n",
       "        0.06243356]], dtype=float32)"
      ]
     },
     "execution_count": 25,
     "metadata": {},
     "output_type": "execute_result"
    }
   ],
   "source": [
    "y_pred"
   ]
  },
  {
   "cell_type": "code",
   "execution_count": 35,
   "metadata": {},
   "outputs": [],
   "source": [
    "Submit = pd.DataFrame(test.id,columns=['id'])\n",
    "Submit2 = pd.DataFrame(y_pred,columns=y_train)\n",
    "Submit = pd.concat([Submit,Submit2],axis=1)\n",
    "Submit.to_csv(\"C:/Users/Srinivas/Downloads/Desktop/toxicity classification project/toxicity_values.csv\",index=False)"
   ]
  },
  {
   "cell_type": "code",
   "execution_count": 36,
   "metadata": {},
   "outputs": [
    {
     "data": {
      "text/html": [
       "<div>\n",
       "<style scoped>\n",
       "    .dataframe tbody tr th:only-of-type {\n",
       "        vertical-align: middle;\n",
       "    }\n",
       "\n",
       "    .dataframe tbody tr th {\n",
       "        vertical-align: top;\n",
       "    }\n",
       "\n",
       "    .dataframe thead th {\n",
       "        text-align: right;\n",
       "    }\n",
       "</style>\n",
       "<table border=\"1\" class=\"dataframe\">\n",
       "  <thead>\n",
       "    <tr style=\"text-align: right;\">\n",
       "      <th></th>\n",
       "      <th>id</th>\n",
       "      <th>toxic</th>\n",
       "      <th>severe_toxic</th>\n",
       "      <th>obscene</th>\n",
       "      <th>threat</th>\n",
       "      <th>insult</th>\n",
       "      <th>identity_hate</th>\n",
       "    </tr>\n",
       "  </thead>\n",
       "  <tbody>\n",
       "    <tr>\n",
       "      <th>0</th>\n",
       "      <td>00001cee341fdb12</td>\n",
       "      <td>0.420713</td>\n",
       "      <td>0.034870</td>\n",
       "      <td>0.265860</td>\n",
       "      <td>0.006516</td>\n",
       "      <td>0.234786</td>\n",
       "      <td>0.037254</td>\n",
       "    </tr>\n",
       "    <tr>\n",
       "      <th>1</th>\n",
       "      <td>0000247867823ef7</td>\n",
       "      <td>0.607843</td>\n",
       "      <td>0.010246</td>\n",
       "      <td>0.156189</td>\n",
       "      <td>0.003982</td>\n",
       "      <td>0.178227</td>\n",
       "      <td>0.043514</td>\n",
       "    </tr>\n",
       "    <tr>\n",
       "      <th>2</th>\n",
       "      <td>00013b17ad220c46</td>\n",
       "      <td>0.650224</td>\n",
       "      <td>0.013386</td>\n",
       "      <td>0.124053</td>\n",
       "      <td>0.007359</td>\n",
       "      <td>0.152466</td>\n",
       "      <td>0.052511</td>\n",
       "    </tr>\n",
       "    <tr>\n",
       "      <th>3</th>\n",
       "      <td>00017563c3f7919a</td>\n",
       "      <td>0.575376</td>\n",
       "      <td>0.011290</td>\n",
       "      <td>0.170619</td>\n",
       "      <td>0.004333</td>\n",
       "      <td>0.203641</td>\n",
       "      <td>0.034741</td>\n",
       "    </tr>\n",
       "    <tr>\n",
       "      <th>4</th>\n",
       "      <td>00017695ad8997eb</td>\n",
       "      <td>0.677817</td>\n",
       "      <td>0.007715</td>\n",
       "      <td>0.121068</td>\n",
       "      <td>0.003730</td>\n",
       "      <td>0.159367</td>\n",
       "      <td>0.030304</td>\n",
       "    </tr>\n",
       "  </tbody>\n",
       "</table>\n",
       "</div>"
      ],
      "text/plain": [
       "                 id     toxic  severe_toxic   obscene    threat    insult  \\\n",
       "0  00001cee341fdb12  0.420713      0.034870  0.265860  0.006516  0.234786   \n",
       "1  0000247867823ef7  0.607843      0.010246  0.156189  0.003982  0.178227   \n",
       "2  00013b17ad220c46  0.650224      0.013386  0.124053  0.007359  0.152466   \n",
       "3  00017563c3f7919a  0.575376      0.011290  0.170619  0.004333  0.203641   \n",
       "4  00017695ad8997eb  0.677817      0.007715  0.121068  0.003730  0.159367   \n",
       "\n",
       "   identity_hate  \n",
       "0       0.037254  \n",
       "1       0.043514  \n",
       "2       0.052511  \n",
       "3       0.034741  \n",
       "4       0.030304  "
      ]
     },
     "execution_count": 36,
     "metadata": {},
     "output_type": "execute_result"
    }
   ],
   "source": [
    "Submit.head()"
   ]
  },
  {
   "cell_type": "code",
   "execution_count": null,
   "metadata": {},
   "outputs": [],
   "source": []
  }
 ],
 "metadata": {
  "kernelspec": {
   "display_name": "Python 3",
   "language": "python",
   "name": "python3"
  },
  "language_info": {
   "codemirror_mode": {
    "name": "ipython",
    "version": 3
   },
   "file_extension": ".py",
   "mimetype": "text/x-python",
   "name": "python",
   "nbconvert_exporter": "python",
   "pygments_lexer": "ipython3",
   "version": "3.7.3"
  }
 },
 "nbformat": 4,
 "nbformat_minor": 1
}
